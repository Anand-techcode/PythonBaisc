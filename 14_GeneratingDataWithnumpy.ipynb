{
 "cells": [
  {
   "cell_type": "code",
   "execution_count": 1,
   "id": "1e1f7cb8",
   "metadata": {},
   "outputs": [],
   "source": [
    "import numpy as np"
   ]
  },
  {
   "cell_type": "markdown",
   "id": "266dbb77",
   "metadata": {},
   "source": [
    "# np.empty()"
   ]
  },
  {
   "cell_type": "code",
   "execution_count": 2,
   "id": "d02f05b3",
   "metadata": {},
   "outputs": [
    {
     "data": {
      "text/plain": [
       "array([[0., 0., 0.],\n",
       "       [0., 0., 0.]])"
      ]
     },
     "execution_count": 2,
     "metadata": {},
     "output_type": "execute_result"
    }
   ],
   "source": [
    "empty = np.empty(shape = (2,3))\n",
    "empty"
   ]
  },
  {
   "cell_type": "markdown",
   "id": "99f49990",
   "metadata": {},
   "source": [
    "# np.zeros() --> create array full of zeros"
   ]
  },
  {
   "cell_type": "code",
   "execution_count": 4,
   "id": "29ec9c23",
   "metadata": {},
   "outputs": [
    {
     "data": {
      "text/plain": [
       "array([[0., 0., 0., 0., 0.],\n",
       "       [0., 0., 0., 0., 0.],\n",
       "       [0., 0., 0., 0., 0.],\n",
       "       [0., 0., 0., 0., 0.]])"
      ]
     },
     "execution_count": 4,
     "metadata": {},
     "output_type": "execute_result"
    }
   ],
   "source": [
    "zeros = np.zeros(shape = (4,5))\n",
    "zeros"
   ]
  },
  {
   "cell_type": "code",
   "execution_count": 5,
   "id": "8ee5b75e",
   "metadata": {},
   "outputs": [
    {
     "data": {
      "text/plain": [
       "array([[0, 0, 0, 0, 0],\n",
       "       [0, 0, 0, 0, 0],\n",
       "       [0, 0, 0, 0, 0],\n",
       "       [0, 0, 0, 0, 0]], dtype=int8)"
      ]
     },
     "execution_count": 5,
     "metadata": {},
     "output_type": "execute_result"
    }
   ],
   "source": [
    "zeros = np.zeros(shape = (4,5), dtype=np.int8)\n",
    "zeros"
   ]
  },
  {
   "cell_type": "markdown",
   "id": "0b4532e6",
   "metadata": {},
   "source": [
    "# np.ones() --> create array full of one"
   ]
  },
  {
   "cell_type": "code",
   "execution_count": 6,
   "id": "7b39b1b8",
   "metadata": {},
   "outputs": [
    {
     "data": {
      "text/plain": [
       "array([[1., 1., 1., 1., 1.],\n",
       "       [1., 1., 1., 1., 1.],\n",
       "       [1., 1., 1., 1., 1.],\n",
       "       [1., 1., 1., 1., 1.]])"
      ]
     },
     "execution_count": 6,
     "metadata": {},
     "output_type": "execute_result"
    }
   ],
   "source": [
    "one = np.ones(shape = (4,5))\n",
    "one"
   ]
  },
  {
   "cell_type": "code",
   "execution_count": 7,
   "id": "14782174",
   "metadata": {},
   "outputs": [
    {
     "data": {
      "text/plain": [
       "array([[1, 1, 1, 1, 1],\n",
       "       [1, 1, 1, 1, 1],\n",
       "       [1, 1, 1, 1, 1],\n",
       "       [1, 1, 1, 1, 1]], dtype=int8)"
      ]
     },
     "execution_count": 7,
     "metadata": {},
     "output_type": "execute_result"
    }
   ],
   "source": [
    "one = np.ones(shape = (4,5), dtype=np.int8)\n",
    "one"
   ]
  },
  {
   "cell_type": "markdown",
   "id": "1e62cea9",
   "metadata": {},
   "source": [
    "# np.full() --> create array full of any number"
   ]
  },
  {
   "cell_type": "code",
   "execution_count": 8,
   "id": "fd323fc6",
   "metadata": {},
   "outputs": [
    {
     "data": {
      "text/plain": [
       "array([[3, 3, 3, 3, 3],\n",
       "       [3, 3, 3, 3, 3],\n",
       "       [3, 3, 3, 3, 3],\n",
       "       [3, 3, 3, 3, 3]], dtype=int8)"
      ]
     },
     "execution_count": 8,
     "metadata": {},
     "output_type": "execute_result"
    }
   ],
   "source": [
    "fulls = np.full(shape = (4,5), fill_value = 3, dtype=np.int8)\n",
    "fulls"
   ]
  },
  {
   "cell_type": "code",
   "execution_count": 9,
   "id": "5233fcae",
   "metadata": {},
   "outputs": [
    {
     "data": {
      "text/plain": [
       "array([['Anand', 'Anand', 'Anand', 'Anand', 'Anand'],\n",
       "       ['Anand', 'Anand', 'Anand', 'Anand', 'Anand'],\n",
       "       ['Anand', 'Anand', 'Anand', 'Anand', 'Anand'],\n",
       "       ['Anand', 'Anand', 'Anand', 'Anand', 'Anand']], dtype='<U5')"
      ]
     },
     "execution_count": 9,
     "metadata": {},
     "output_type": "execute_result"
    }
   ],
   "source": [
    "fulls = np.full(shape = (4,5), fill_value = \"Anand\")\n",
    "fulls"
   ]
  },
  {
   "cell_type": "markdown",
   "id": "e7c58093",
   "metadata": {},
   "source": [
    "# _like functions"
   ]
  },
  {
   "cell_type": "code",
   "execution_count": 14,
   "id": "207c3701",
   "metadata": {},
   "outputs": [
    {
     "data": {
      "text/plain": [
       "array([[ 65,   0,   0,   0, 110],\n",
       "       [  0,   0,   0,  97,   0],\n",
       "       [  0,   0, 110,   0,   0],\n",
       "       [  0, 100,   0,   0,   0]], dtype=int8)"
      ]
     },
     "execution_count": 14,
     "metadata": {},
     "output_type": "execute_result"
    }
   ],
   "source": [
    "like = np.empty_like(one)\n",
    "like"
   ]
  },
  {
   "cell_type": "markdown",
   "id": "ec340862",
   "metadata": {},
   "source": [
    "same we can do for np.ones,np.zeros,np.empty,np.full"
   ]
  },
  {
   "cell_type": "code",
   "execution_count": 15,
   "id": "648a257a",
   "metadata": {},
   "outputs": [
    {
     "data": {
      "text/plain": [
       "range(0, 30)"
      ]
     },
     "execution_count": 15,
     "metadata": {},
     "output_type": "execute_result"
    }
   ],
   "source": [
    "range(0,30)"
   ]
  },
  {
   "cell_type": "code",
   "execution_count": 17,
   "id": "1b6cab1c",
   "metadata": {},
   "outputs": [
    {
     "data": {
      "text/plain": [
       "[0,\n",
       " 1,\n",
       " 2,\n",
       " 3,\n",
       " 4,\n",
       " 5,\n",
       " 6,\n",
       " 7,\n",
       " 8,\n",
       " 9,\n",
       " 10,\n",
       " 11,\n",
       " 12,\n",
       " 13,\n",
       " 14,\n",
       " 15,\n",
       " 16,\n",
       " 17,\n",
       " 18,\n",
       " 19,\n",
       " 20,\n",
       " 21,\n",
       " 22,\n",
       " 23,\n",
       " 24,\n",
       " 25,\n",
       " 26,\n",
       " 27,\n",
       " 28,\n",
       " 29]"
      ]
     },
     "execution_count": 17,
     "metadata": {},
     "output_type": "execute_result"
    }
   ],
   "source": [
    "list(range(0,30))"
   ]
  },
  {
   "cell_type": "code",
   "execution_count": 19,
   "id": "abe074f1",
   "metadata": {},
   "outputs": [],
   "source": [
    "lsi = np.arange(0,30)"
   ]
  },
  {
   "cell_type": "code",
   "execution_count": 20,
   "id": "9edd2301",
   "metadata": {},
   "outputs": [
    {
     "data": {
      "text/plain": [
       "array([ 0,  1,  2,  3,  4,  5,  6,  7,  8,  9, 10, 11, 12, 13, 14, 15, 16,\n",
       "       17, 18, 19, 20, 21, 22, 23, 24, 25, 26, 27, 28, 29])"
      ]
     },
     "execution_count": 20,
     "metadata": {},
     "output_type": "execute_result"
    }
   ],
   "source": [
    "lsi"
   ]
  },
  {
   "cell_type": "code",
   "execution_count": 21,
   "id": "bf5acc54",
   "metadata": {},
   "outputs": [],
   "source": [
    "lsi = np.arange(0,30)"
   ]
  },
  {
   "cell_type": "code",
   "execution_count": 22,
   "id": "fe601f8e",
   "metadata": {},
   "outputs": [
    {
     "data": {
      "text/plain": [
       "array([ 0,  1,  2,  3,  4,  5,  6,  7,  8,  9, 10, 11, 12, 13, 14, 15, 16,\n",
       "       17, 18, 19, 20, 21, 22, 23, 24, 25, 26, 27, 28, 29])"
      ]
     },
     "execution_count": 22,
     "metadata": {},
     "output_type": "execute_result"
    }
   ],
   "source": [
    "lsi = np.arange(start = 0, stop = 30)\n",
    "lsi"
   ]
  },
  {
   "cell_type": "code",
   "execution_count": 23,
   "id": "737cc1e8",
   "metadata": {},
   "outputs": [
    {
     "data": {
      "text/plain": [
       "array([ 0,  2,  4,  6,  8, 10, 12, 14, 16, 18, 20, 22, 24, 26, 28])"
      ]
     },
     "execution_count": 23,
     "metadata": {},
     "output_type": "execute_result"
    }
   ],
   "source": [
    "lsi = np.arange(start = 0, stop = 30, step = 2)\n",
    "lsi"
   ]
  },
  {
   "cell_type": "code",
   "execution_count": 24,
   "id": "a0816fc1",
   "metadata": {},
   "outputs": [
    {
     "data": {
      "text/plain": [
       "array([ 0.,  2.,  4.,  6.,  8., 10., 12., 14., 16., 18., 20., 22., 24.,\n",
       "       26., 28.])"
      ]
     },
     "execution_count": 24,
     "metadata": {},
     "output_type": "execute_result"
    }
   ],
   "source": [
    "lsi = np.arange(start = 0, stop = 30, step = 2, dtype = np.float64)\n",
    "lsi"
   ]
  },
  {
   "cell_type": "markdown",
   "id": "8d292028",
   "metadata": {},
   "source": [
    "# Random generator and seeds"
   ]
  },
  {
   "cell_type": "code",
   "execution_count": 25,
   "id": "421c3f18",
   "metadata": {},
   "outputs": [],
   "source": [
    "from numpy.random import Generator as gen\n",
    "from numpy.random import PCG64 as pcg"
   ]
  },
  {
   "cell_type": "code",
   "execution_count": 26,
   "id": "27553251",
   "metadata": {},
   "outputs": [
    {
     "data": {
      "text/plain": [
       "0.4087323185404253"
      ]
     },
     "execution_count": 26,
     "metadata": {},
     "output_type": "execute_result"
    }
   ],
   "source": [
    "rg = gen(pcg())\n",
    "rg.normal()"
   ]
  },
  {
   "cell_type": "code",
   "execution_count": 27,
   "id": "95ee544d",
   "metadata": {},
   "outputs": [
    {
     "data": {
      "text/plain": [
       "array([-0.63425473,  0.12319182, -0.409339  ,  0.75887717, -1.50265783])"
      ]
     },
     "execution_count": 27,
     "metadata": {},
     "output_type": "execute_result"
    }
   ],
   "source": [
    "rg = gen(pcg())\n",
    "rg.normal(size = 5)"
   ]
  },
  {
   "cell_type": "code",
   "execution_count": 29,
   "id": "ba80423b",
   "metadata": {},
   "outputs": [
    {
     "data": {
      "text/plain": [
       "array([[-1.22598934,  1.62372793,  0.43376939,  0.80030853, -1.22929471],\n",
       "       [-1.07450033, -1.51117671,  0.3721338 , -0.48036639, -0.66236439],\n",
       "       [ 0.31047157, -0.83675071,  0.59491166,  0.74791486, -0.2267501 ],\n",
       "       [ 2.028624  , -1.51166116,  0.24615893, -1.13372733,  1.37130497],\n",
       "       [-0.10078129,  1.46298806, -0.1497453 ,  0.61670283,  0.70935523]])"
      ]
     },
     "execution_count": 29,
     "metadata": {},
     "output_type": "execute_result"
    }
   ],
   "source": [
    "rg = gen(pcg())\n",
    "rg.normal(size = (5,5))"
   ]
  },
  {
   "cell_type": "code",
   "execution_count": 30,
   "id": "b9ab3905",
   "metadata": {},
   "outputs": [
    {
     "data": {
      "text/plain": [
       "array([[-0.13640899,  0.09414431, -0.06300442,  1.05391641, -0.6866818 ],\n",
       "       [-0.50922173, -0.7999526 ,  0.73041825,  0.08825439, -2.1177576 ],\n",
       "       [ 0.65526774, -0.48095012, -0.5519114 , -0.58578662, -0.98257896],\n",
       "       [ 1.12378166, -1.30984316, -0.04703774,  0.955272  ,  0.26071745],\n",
       "       [-0.20023668, -1.50172484, -1.4929163 ,  0.96535084,  1.18694633]])"
      ]
     },
     "execution_count": 30,
     "metadata": {},
     "output_type": "execute_result"
    }
   ],
   "source": [
    "rg = gen(pcg(seed = 365))\n",
    "rg.normal(size = (5,5))"
   ]
  },
  {
   "cell_type": "code",
   "execution_count": null,
   "id": "e9b17325",
   "metadata": {},
   "outputs": [],
   "source": []
  }
 ],
 "metadata": {
  "kernelspec": {
   "display_name": "Python 3 (ipykernel)",
   "language": "python",
   "name": "python3"
  },
  "language_info": {
   "codemirror_mode": {
    "name": "ipython",
    "version": 3
   },
   "file_extension": ".py",
   "mimetype": "text/x-python",
   "name": "python",
   "nbconvert_exporter": "python",
   "pygments_lexer": "ipython3",
   "version": "3.9.13"
  }
 },
 "nbformat": 4,
 "nbformat_minor": 5
}
