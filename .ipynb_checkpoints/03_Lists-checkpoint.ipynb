{
 "cells": [
  {
   "cell_type": "markdown",
   "id": "0f74ff08",
   "metadata": {},
   "source": [
    "# Lists"
   ]
  },
  {
   "cell_type": "code",
   "execution_count": 1,
   "id": "928a26fd",
   "metadata": {},
   "outputs": [
    {
     "data": {
      "text/plain": [
       "['Anand', 'Priya', 'Aditya']"
      ]
     },
     "execution_count": 1,
     "metadata": {},
     "output_type": "execute_result"
    }
   ],
   "source": [
    "name = ['Anand', 'Priya', 'Aditya']\n",
    "name"
   ]
  },
  {
   "cell_type": "code",
   "execution_count": 2,
   "id": "d930e49c",
   "metadata": {},
   "outputs": [
    {
     "name": "stdout",
     "output_type": "stream",
     "text": [
      "['Anand', 'Priya', 'Aditya']\n"
     ]
    }
   ],
   "source": [
    "print(name)"
   ]
  },
  {
   "cell_type": "code",
   "execution_count": 3,
   "id": "7bf5b404",
   "metadata": {},
   "outputs": [
    {
     "name": "stdout",
     "output_type": "stream",
     "text": [
      "Aditya\n"
     ]
    }
   ],
   "source": [
    "print(name[2])"
   ]
  },
  {
   "cell_type": "code",
   "execution_count": 4,
   "id": "05681e06",
   "metadata": {},
   "outputs": [
    {
     "name": "stdout",
     "output_type": "stream",
     "text": [
      "Aditya\n"
     ]
    }
   ],
   "source": [
    "print(name[-1])"
   ]
  },
  {
   "cell_type": "code",
   "execution_count": 5,
   "id": "2b8d5a58",
   "metadata": {},
   "outputs": [
    {
     "name": "stdout",
     "output_type": "stream",
     "text": [
      "Aditya\n"
     ]
    }
   ],
   "source": [
    "print(name.pop())"
   ]
  },
  {
   "cell_type": "code",
   "execution_count": 6,
   "id": "46a7e15d",
   "metadata": {},
   "outputs": [
    {
     "data": {
      "text/plain": [
       "['Anand', 'Priya']"
      ]
     },
     "execution_count": 6,
     "metadata": {},
     "output_type": "execute_result"
    }
   ],
   "source": [
    "name"
   ]
  },
  {
   "cell_type": "code",
   "execution_count": 9,
   "id": "8f3aa192",
   "metadata": {},
   "outputs": [
    {
     "name": "stdout",
     "output_type": "stream",
     "text": [
      "None\n"
     ]
    }
   ],
   "source": [
    "print(name.append(\"Jatin\"))"
   ]
  },
  {
   "cell_type": "code",
   "execution_count": 10,
   "id": "cd324f0f",
   "metadata": {},
   "outputs": [
    {
     "data": {
      "text/plain": [
       "['Anand', 'Priya', 'Jatin', 'Jatin']"
      ]
     },
     "execution_count": 10,
     "metadata": {},
     "output_type": "execute_result"
    }
   ],
   "source": [
    "name"
   ]
  },
  {
   "cell_type": "code",
   "execution_count": 11,
   "id": "5456f2a6",
   "metadata": {},
   "outputs": [
    {
     "name": "stdout",
     "output_type": "stream",
     "text": [
      "Jatin\n"
     ]
    }
   ],
   "source": [
    "print(name.pop())"
   ]
  },
  {
   "cell_type": "code",
   "execution_count": 12,
   "id": "2c1289ec",
   "metadata": {},
   "outputs": [
    {
     "data": {
      "text/plain": [
       "['Anand', 'Priya', 'Jatin']"
      ]
     },
     "execution_count": 12,
     "metadata": {},
     "output_type": "execute_result"
    }
   ],
   "source": [
    "name"
   ]
  },
  {
   "cell_type": "code",
   "execution_count": 13,
   "id": "afc77e7c",
   "metadata": {},
   "outputs": [
    {
     "data": {
      "text/plain": [
       "['Anand', 'Priya', 'Jatin']"
      ]
     },
     "execution_count": 13,
     "metadata": {},
     "output_type": "execute_result"
    }
   ],
   "source": [
    "#slicing\n",
    "name"
   ]
  },
  {
   "cell_type": "code",
   "execution_count": 15,
   "id": "ea353b56",
   "metadata": {},
   "outputs": [
    {
     "data": {
      "text/plain": [
       "['Priya', 'Jatin']"
      ]
     },
     "execution_count": 15,
     "metadata": {},
     "output_type": "execute_result"
    }
   ],
   "source": [
    "name[1:3] #start:stop-1"
   ]
  },
  {
   "cell_type": "code",
   "execution_count": 16,
   "id": "5f22b06a",
   "metadata": {},
   "outputs": [
    {
     "data": {
      "text/plain": [
       "['Anand', 'Priya']"
      ]
     },
     "execution_count": 16,
     "metadata": {},
     "output_type": "execute_result"
    }
   ],
   "source": [
    "name[:2]"
   ]
  },
  {
   "cell_type": "code",
   "execution_count": 17,
   "id": "7238b34b",
   "metadata": {},
   "outputs": [
    {
     "data": {
      "text/plain": [
       "['Priya', 'Jatin']"
      ]
     },
     "execution_count": 17,
     "metadata": {},
     "output_type": "execute_result"
    }
   ],
   "source": [
    "name[1:]"
   ]
  },
  {
   "cell_type": "code",
   "execution_count": 18,
   "id": "50cbefaa",
   "metadata": {},
   "outputs": [],
   "source": [
    "name.insert(1,\"Singh\")"
   ]
  },
  {
   "cell_type": "code",
   "execution_count": 19,
   "id": "e251d690",
   "metadata": {},
   "outputs": [
    {
     "data": {
      "text/plain": [
       "['Anand', 'Singh', 'Priya', 'Jatin']"
      ]
     },
     "execution_count": 19,
     "metadata": {},
     "output_type": "execute_result"
    }
   ],
   "source": [
    "name"
   ]
  },
  {
   "cell_type": "code",
   "execution_count": 20,
   "id": "e78175d8",
   "metadata": {},
   "outputs": [
    {
     "data": {
      "text/plain": [
       "['Singh', 'Priya', 'Jatin']"
      ]
     },
     "execution_count": 20,
     "metadata": {},
     "output_type": "execute_result"
    }
   ],
   "source": [
    "name[1:]"
   ]
  },
  {
   "cell_type": "code",
   "execution_count": null,
   "id": "558e56ff",
   "metadata": {},
   "outputs": [],
   "source": []
  }
 ],
 "metadata": {
  "kernelspec": {
   "display_name": "Python 3 (ipykernel)",
   "language": "python",
   "name": "python3"
  },
  "language_info": {
   "codemirror_mode": {
    "name": "ipython",
    "version": 3
   },
   "file_extension": ".py",
   "mimetype": "text/x-python",
   "name": "python",
   "nbconvert_exporter": "python",
   "pygments_lexer": "ipython3",
   "version": "3.9.13"
  }
 },
 "nbformat": 4,
 "nbformat_minor": 5
}
