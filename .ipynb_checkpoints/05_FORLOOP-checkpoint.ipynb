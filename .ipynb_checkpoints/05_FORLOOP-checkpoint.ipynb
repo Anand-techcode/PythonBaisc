{
 "cells": [
  {
   "cell_type": "markdown",
   "id": "e611581f",
   "metadata": {},
   "source": [
    "# FOR LOOP"
   ]
  },
  {
   "cell_type": "code",
   "execution_count": 1,
   "id": "669808cd",
   "metadata": {},
   "outputs": [],
   "source": [
    "num = list(range(1,11))"
   ]
  },
  {
   "cell_type": "code",
   "execution_count": 2,
   "id": "7404e190",
   "metadata": {},
   "outputs": [
    {
     "data": {
      "text/plain": [
       "[1, 2, 3, 4, 5, 6, 7, 8, 9, 10]"
      ]
     },
     "execution_count": 2,
     "metadata": {},
     "output_type": "execute_result"
    }
   ],
   "source": [
    "num"
   ]
  },
  {
   "cell_type": "code",
   "execution_count": 7,
   "id": "6279953b",
   "metadata": {
    "scrolled": true
   },
   "outputs": [
    {
     "name": "stdout",
     "output_type": "stream",
     "text": [
      "1 2 3 4 5 6 7 8 9 10 "
     ]
    }
   ],
   "source": [
    "for n in num:\n",
    "    #print (n)\n",
    "    print (n, end = \" \")"
   ]
  },
  {
   "cell_type": "markdown",
   "id": "d46d07b0",
   "metadata": {},
   "source": [
    "# create list with range"
   ]
  },
  {
   "cell_type": "code",
   "execution_count": 8,
   "id": "7c0edfe1",
   "metadata": {},
   "outputs": [
    {
     "data": {
      "text/plain": [
       "[1, 2, 3, 4, 5, 6, 7, 8, 9, 10]"
      ]
     },
     "execution_count": 8,
     "metadata": {},
     "output_type": "execute_result"
    }
   ],
   "source": [
    "num = list(range(1,11,1))\n",
    "num"
   ]
  },
  {
   "cell_type": "code",
   "execution_count": 9,
   "id": "afe0aba3",
   "metadata": {},
   "outputs": [
    {
     "data": {
      "text/plain": [
       "[1, 3, 5, 7, 9]"
      ]
     },
     "execution_count": 9,
     "metadata": {},
     "output_type": "execute_result"
    }
   ],
   "source": [
    "num = list(range(1,11,2))\n",
    "num"
   ]
  },
  {
   "cell_type": "code",
   "execution_count": 11,
   "id": "238ace00",
   "metadata": {},
   "outputs": [],
   "source": [
    "def count(num):\n",
    "    t=0\n",
    "    for i in num:\n",
    "        if i < 20:\n",
    "            t=t+1\n",
    "    return t\n",
    "        "
   ]
  },
  {
   "cell_type": "code",
   "execution_count": 12,
   "id": "c35f6a55",
   "metadata": {},
   "outputs": [],
   "source": [
    "list = [1,2,3,4,56,67,23,11]"
   ]
  },
  {
   "cell_type": "code",
   "execution_count": 13,
   "id": "79acad00",
   "metadata": {},
   "outputs": [
    {
     "data": {
      "text/plain": [
       "5"
      ]
     },
     "execution_count": 13,
     "metadata": {},
     "output_type": "execute_result"
    }
   ],
   "source": [
    "count(list)"
   ]
  },
  {
   "cell_type": "code",
   "execution_count": null,
   "id": "9f68eb10",
   "metadata": {},
   "outputs": [],
   "source": []
  }
 ],
 "metadata": {
  "kernelspec": {
   "display_name": "Python 3 (ipykernel)",
   "language": "python",
   "name": "python3"
  },
  "language_info": {
   "codemirror_mode": {
    "name": "ipython",
    "version": 3
   },
   "file_extension": ".py",
   "mimetype": "text/x-python",
   "name": "python",
   "nbconvert_exporter": "python",
   "pygments_lexer": "ipython3",
   "version": "3.9.13"
  }
 },
 "nbformat": 4,
 "nbformat_minor": 5
}
