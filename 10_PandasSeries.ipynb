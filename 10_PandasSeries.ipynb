{
 "cells": [
  {
   "cell_type": "code",
   "execution_count": 1,
   "id": "6ebd5a2e",
   "metadata": {},
   "outputs": [],
   "source": [
    "import pandas as pd"
   ]
  },
  {
   "cell_type": "markdown",
   "id": "05c352bc",
   "metadata": {},
   "source": [
    "we can create a series object from list"
   ]
  },
  {
   "cell_type": "code",
   "execution_count": 2,
   "id": "36ec41a6",
   "metadata": {},
   "outputs": [
    {
     "data": {
      "text/plain": [
       "['A', 'a', 'B']"
      ]
     },
     "execution_count": 2,
     "metadata": {},
     "output_type": "execute_result"
    }
   ],
   "source": [
    "product = ['A','a','B']\n",
    "product"
   ]
  },
  {
   "cell_type": "code",
   "execution_count": 3,
   "id": "e3c25753",
   "metadata": {},
   "outputs": [
    {
     "data": {
      "text/plain": [
       "list"
      ]
     },
     "execution_count": 3,
     "metadata": {},
     "output_type": "execute_result"
    }
   ],
   "source": [
    "type(product)"
   ]
  },
  {
   "cell_type": "markdown",
   "id": "e96de7aa",
   "metadata": {},
   "source": [
    "now if we have to create series"
   ]
  },
  {
   "cell_type": "code",
   "execution_count": 4,
   "id": "137f5cf2",
   "metadata": {},
   "outputs": [
    {
     "data": {
      "text/plain": [
       "0    A\n",
       "1    a\n",
       "2    B\n",
       "dtype: object"
      ]
     },
     "execution_count": 4,
     "metadata": {},
     "output_type": "execute_result"
    }
   ],
   "source": [
    "product_categories = pd.Series(product) # we are calling it from pandas library --> series class\n",
    "product_categories"
   ]
  },
  {
   "cell_type": "markdown",
   "id": "a4c698a4",
   "metadata": {},
   "source": [
    "OR"
   ]
  },
  {
   "cell_type": "code",
   "execution_count": 5,
   "id": "f1eb0380",
   "metadata": {},
   "outputs": [
    {
     "data": {
      "text/plain": [
       "Index1    22\n",
       "Index2    23\n",
       "Index3    24\n",
       "dtype: object"
      ]
     },
     "execution_count": 5,
     "metadata": {},
     "output_type": "execute_result"
    }
   ],
   "source": [
    "product_categories = pd.Series({'Index1':22,'Index2':'23','Index3':'24'})\n",
    "product_categories\n",
    "#here we get Explicit indexing"
   ]
  },
  {
   "cell_type": "code",
   "execution_count": 6,
   "id": "c00ec24b",
   "metadata": {},
   "outputs": [
    {
     "name": "stdout",
     "output_type": "stream",
     "text": [
      "Index(['Index1', 'Index2', 'Index3'], dtype='object')\n"
     ]
    }
   ],
   "source": [
    "print(product_categories.index)"
   ]
  },
  {
   "cell_type": "code",
   "execution_count": 7,
   "id": "93e69e04",
   "metadata": {},
   "outputs": [
    {
     "data": {
      "text/plain": [
       "0    a\n",
       "1    b\n",
       "2    c\n",
       "dtype: object"
      ]
     },
     "execution_count": 7,
     "metadata": {},
     "output_type": "execute_result"
    }
   ],
   "source": [
    "product_categories = pd.Series(['a','b','c'])\n",
    "product_categories                                \n",
    "#here we get Implicit indexing"
   ]
  },
  {
   "cell_type": "code",
   "execution_count": 8,
   "id": "142cf272",
   "metadata": {},
   "outputs": [
    {
     "name": "stdout",
     "output_type": "stream",
     "text": [
      "RangeIndex(start=0, stop=3, step=1)\n"
     ]
    }
   ],
   "source": [
    "print(product_categories.index)"
   ]
  },
  {
   "cell_type": "code",
   "execution_count": 9,
   "id": "8805f6dc",
   "metadata": {},
   "outputs": [
    {
     "name": "stdout",
     "output_type": "stream",
     "text": [
      "b\n"
     ]
    }
   ],
   "source": [
    "print(product_categories[1])"
   ]
  },
  {
   "cell_type": "markdown",
   "id": "286098e1",
   "metadata": {},
   "source": [
    "Using methods"
   ]
  },
  {
   "cell_type": "code",
   "execution_count": 10,
   "id": "02ee52d5",
   "metadata": {},
   "outputs": [
    {
     "data": {
      "text/plain": [
       "1       100\n",
       "2       300\n",
       "3       300\n",
       "4       500\n",
       "5       900\n",
       "6      3300\n",
       "7      3500\n",
       "8      3200\n",
       "9     32200\n",
       "10     3020\n",
       "dtype: int64"
      ]
     },
     "execution_count": 10,
     "metadata": {},
     "output_type": "execute_result"
    }
   ],
   "source": [
    "quanty_kg = pd.Series({'1':100,'2':300,'3':300,'4':500,'5':900,'6':3300,'7':3500,'8':3200,'9':32200,'10':3020})\n",
    "quanty_kg"
   ]
  },
  {
   "cell_type": "code",
   "execution_count": 12,
   "id": "faa748ea",
   "metadata": {},
   "outputs": [
    {
     "data": {
      "text/plain": [
       "47320"
      ]
     },
     "execution_count": 12,
     "metadata": {},
     "output_type": "execute_result"
    }
   ],
   "source": [
    "quanty_kg.sum()"
   ]
  },
  {
   "cell_type": "code",
   "execution_count": 13,
   "id": "050ac897",
   "metadata": {},
   "outputs": [
    {
     "data": {
      "text/plain": [
       "32200"
      ]
     },
     "execution_count": 13,
     "metadata": {},
     "output_type": "execute_result"
    }
   ],
   "source": [
    "quanty_kg.max()"
   ]
  },
  {
   "cell_type": "code",
   "execution_count": 14,
   "id": "9a50bfa6",
   "metadata": {},
   "outputs": [
    {
     "data": {
      "text/plain": [
       "100"
      ]
     },
     "execution_count": 14,
     "metadata": {},
     "output_type": "execute_result"
    }
   ],
   "source": [
    "quanty_kg.min()"
   ]
  },
  {
   "cell_type": "code",
   "execution_count": 16,
   "id": "abed6fe0",
   "metadata": {},
   "outputs": [],
   "source": [
    "import numpy as np"
   ]
  },
  {
   "cell_type": "code",
   "execution_count": 19,
   "id": "1bbd000f",
   "metadata": {},
   "outputs": [
    {
     "data": {
      "text/plain": [
       "1    100\n",
       "2    300\n",
       "3    300\n",
       "4    500\n",
       "5    900\n",
       "dtype: int64"
      ]
     },
     "execution_count": 19,
     "metadata": {},
     "output_type": "execute_result"
    }
   ],
   "source": [
    "quanty_kg.head()"
   ]
  },
  {
   "cell_type": "code",
   "execution_count": 20,
   "id": "9250448a",
   "metadata": {},
   "outputs": [
    {
     "data": {
      "text/plain": [
       "1    100\n",
       "2    300\n",
       "dtype: int64"
      ]
     },
     "execution_count": 20,
     "metadata": {},
     "output_type": "execute_result"
    }
   ],
   "source": [
    "quanty_kg.head(2)"
   ]
  },
  {
   "cell_type": "code",
   "execution_count": 21,
   "id": "9989b60a",
   "metadata": {},
   "outputs": [
    {
     "data": {
      "text/plain": [
       "6      3300\n",
       "7      3500\n",
       "8      3200\n",
       "9     32200\n",
       "10     3020\n",
       "dtype: int64"
      ]
     },
     "execution_count": 21,
     "metadata": {},
     "output_type": "execute_result"
    }
   ],
   "source": [
    "quanty_kg.tail()"
   ]
  },
  {
   "cell_type": "code",
   "execution_count": 23,
   "id": "5df58eb1",
   "metadata": {},
   "outputs": [
    {
     "data": {
      "text/plain": [
       "1    100\n",
       "dtype: int64"
      ]
     },
     "execution_count": 23,
     "metadata": {},
     "output_type": "execute_result"
    }
   ],
   "source": [
    "quanty_kg.head(1)"
   ]
  },
  {
   "cell_type": "code",
   "execution_count": 24,
   "id": "a6ce3ab9",
   "metadata": {},
   "outputs": [
    {
     "data": {
      "text/plain": [
       "1     100\n",
       "2     300\n",
       "3     300\n",
       "4     500\n",
       "5     900\n",
       "6    3300\n",
       "7    3500\n",
       "8    3200\n",
       "dtype: int64"
      ]
     },
     "execution_count": 24,
     "metadata": {},
     "output_type": "execute_result"
    }
   ],
   "source": [
    "quanty_kg.head(n=8)"
   ]
  },
  {
   "cell_type": "code",
   "execution_count": null,
   "id": "c4d1891e",
   "metadata": {},
   "outputs": [],
   "source": []
  }
 ],
 "metadata": {
  "kernelspec": {
   "display_name": "Python 3 (ipykernel)",
   "language": "python",
   "name": "python3"
  },
  "language_info": {
   "codemirror_mode": {
    "name": "ipython",
    "version": 3
   },
   "file_extension": ".py",
   "mimetype": "text/x-python",
   "name": "python",
   "nbconvert_exporter": "python",
   "pygments_lexer": "ipython3",
   "version": "3.9.13"
  }
 },
 "nbformat": 4,
 "nbformat_minor": 5
}
