{
 "cells": [
  {
   "cell_type": "code",
   "execution_count": 1,
   "id": "1ac047ee",
   "metadata": {},
   "outputs": [],
   "source": [
    "import pandas as pd"
   ]
  },
  {
   "cell_type": "markdown",
   "id": "af444bc1",
   "metadata": {},
   "source": [
    "# Dataframe is a combination of series"
   ]
  },
  {
   "cell_type": "code",
   "execution_count": 2,
   "id": "976dd3b1",
   "metadata": {},
   "outputs": [
    {
     "data": {
      "text/html": [
       "<div>\n",
       "<style scoped>\n",
       "    .dataframe tbody tr th:only-of-type {\n",
       "        vertical-align: middle;\n",
       "    }\n",
       "\n",
       "    .dataframe tbody tr th {\n",
       "        vertical-align: top;\n",
       "    }\n",
       "\n",
       "    .dataframe thead th {\n",
       "        text-align: right;\n",
       "    }\n",
       "</style>\n",
       "<table border=\"1\" class=\"dataframe\">\n",
       "  <thead>\n",
       "    <tr style=\"text-align: right;\">\n",
       "      <th></th>\n",
       "      <th>SaleID</th>\n",
       "      <th>RetailerCountry</th>\n",
       "      <th>OrderMethod</th>\n",
       "      <th>RetailerType</th>\n",
       "      <th>ProductLine</th>\n",
       "      <th>ProductType</th>\n",
       "      <th>Product</th>\n",
       "      <th>Year</th>\n",
       "      <th>Quarter</th>\n",
       "      <th>Revenue</th>\n",
       "      <th>Quantity</th>\n",
       "      <th>GrossMargin</th>\n",
       "    </tr>\n",
       "  </thead>\n",
       "  <tbody>\n",
       "    <tr>\n",
       "      <th>0</th>\n",
       "      <td>SaleID_1</td>\n",
       "      <td>United States</td>\n",
       "      <td>Fax</td>\n",
       "      <td>Outdoors Shop</td>\n",
       "      <td>Personal Accessories</td>\n",
       "      <td>Cooking Gear</td>\n",
       "      <td>TrailChef Deluxe Cook Set</td>\n",
       "      <td>2018.0</td>\n",
       "      <td>Q1 2018</td>\n",
       "      <td>59728.66</td>\n",
       "      <td>491.0</td>\n",
       "      <td>0.357548</td>\n",
       "    </tr>\n",
       "    <tr>\n",
       "      <th>1</th>\n",
       "      <td>SaleID_2</td>\n",
       "      <td>United States</td>\n",
       "      <td>Fax</td>\n",
       "      <td>Outdoors Shop</td>\n",
       "      <td>Sports Equipment</td>\n",
       "      <td>Cooking Gear</td>\n",
       "      <td>TrailChef Double Flame</td>\n",
       "      <td>2018.0</td>\n",
       "      <td>Q1 2018</td>\n",
       "      <td>36050.32</td>\n",
       "      <td>254.0</td>\n",
       "      <td>0.484274</td>\n",
       "    </tr>\n",
       "    <tr>\n",
       "      <th>2</th>\n",
       "      <td>SaleID_3</td>\n",
       "      <td>United States</td>\n",
       "      <td>Fax</td>\n",
       "      <td>Outdoors Shop</td>\n",
       "      <td>NaN</td>\n",
       "      <td>Tents</td>\n",
       "      <td>Star Dome</td>\n",
       "      <td>2018.0</td>\n",
       "      <td>Q1 2018</td>\n",
       "      <td>90040.48</td>\n",
       "      <td>149.0</td>\n",
       "      <td>NaN</td>\n",
       "    </tr>\n",
       "    <tr>\n",
       "      <th>3</th>\n",
       "      <td>SaleID_4</td>\n",
       "      <td>United States</td>\n",
       "      <td>Fax</td>\n",
       "      <td>Outdoors Shop</td>\n",
       "      <td>NaN</td>\n",
       "      <td>Tents</td>\n",
       "      <td>Star Gazer 2</td>\n",
       "      <td>2018.0</td>\n",
       "      <td>Q1 2018</td>\n",
       "      <td>NaN</td>\n",
       "      <td>305.0</td>\n",
       "      <td>0.292938</td>\n",
       "    </tr>\n",
       "    <tr>\n",
       "      <th>4</th>\n",
       "      <td>SaleID_5</td>\n",
       "      <td>United States</td>\n",
       "      <td>NaN</td>\n",
       "      <td>Outdoors Shop</td>\n",
       "      <td>Personal Accessories</td>\n",
       "      <td>First Aid</td>\n",
       "      <td>Compact Relief Kit</td>\n",
       "      <td>2018.0</td>\n",
       "      <td>Q1 2018</td>\n",
       "      <td>NaN</td>\n",
       "      <td>182.0</td>\n",
       "      <td>0.610710</td>\n",
       "    </tr>\n",
       "    <tr>\n",
       "      <th>...</th>\n",
       "      <td>...</td>\n",
       "      <td>...</td>\n",
       "      <td>...</td>\n",
       "      <td>...</td>\n",
       "      <td>...</td>\n",
       "      <td>...</td>\n",
       "      <td>...</td>\n",
       "      <td>...</td>\n",
       "      <td>...</td>\n",
       "      <td>...</td>\n",
       "      <td>...</td>\n",
       "      <td>...</td>\n",
       "    </tr>\n",
       "    <tr>\n",
       "      <th>1271</th>\n",
       "      <td>SaleID_1272</td>\n",
       "      <td>Spain</td>\n",
       "      <td>Sales visit</td>\n",
       "      <td>Outdoors Shop</td>\n",
       "      <td>Personal Accessories</td>\n",
       "      <td>Rope</td>\n",
       "      <td>Husky Rope 60</td>\n",
       "      <td>2020.0</td>\n",
       "      <td>Q3 2020</td>\n",
       "      <td>30916.50</td>\n",
       "      <td>173.0</td>\n",
       "      <td>0.298114</td>\n",
       "    </tr>\n",
       "    <tr>\n",
       "      <th>1272</th>\n",
       "      <td>SaleID_1273</td>\n",
       "      <td>Spain</td>\n",
       "      <td>Sales visit</td>\n",
       "      <td>Outdoors Shop</td>\n",
       "      <td>Outdoor Protection</td>\n",
       "      <td>Climbing Accessories</td>\n",
       "      <td>Firefly Climbing Lamp</td>\n",
       "      <td>2020.0</td>\n",
       "      <td>Q3 2020</td>\n",
       "      <td>7536.29</td>\n",
       "      <td>193.0</td>\n",
       "      <td>0.445287</td>\n",
       "    </tr>\n",
       "    <tr>\n",
       "      <th>1273</th>\n",
       "      <td>SaleID_1274</td>\n",
       "      <td>Spain</td>\n",
       "      <td>Sales visit</td>\n",
       "      <td>Outdoors Shop</td>\n",
       "      <td>Personal Accessories</td>\n",
       "      <td>Climbing Accessories</td>\n",
       "      <td>Firefly Charger</td>\n",
       "      <td>2020.0</td>\n",
       "      <td>Q3 2020</td>\n",
       "      <td>12306.48</td>\n",
       "      <td>238.0</td>\n",
       "      <td>0.568420</td>\n",
       "    </tr>\n",
       "    <tr>\n",
       "      <th>1274</th>\n",
       "      <td>SaleID_1275</td>\n",
       "      <td>Spain</td>\n",
       "      <td>Sales visit</td>\n",
       "      <td>Outdoors Shop</td>\n",
       "      <td>Personal Accessories</td>\n",
       "      <td>Tools</td>\n",
       "      <td>Granite Axe</td>\n",
       "      <td>2020.0</td>\n",
       "      <td>Q3 2020</td>\n",
       "      <td>56499.00</td>\n",
       "      <td>1472.0</td>\n",
       "      <td>0.490667</td>\n",
       "    </tr>\n",
       "    <tr>\n",
       "      <th>1275</th>\n",
       "      <td>SaleID_1276</td>\n",
       "      <td>Spain</td>\n",
       "      <td>Sales visit</td>\n",
       "      <td>Outdoors Shop</td>\n",
       "      <td>Camping Equipment</td>\n",
       "      <td>Tools</td>\n",
       "      <td>Granite Extreme</td>\n",
       "      <td>2020.0</td>\n",
       "      <td>Q3 2020</td>\n",
       "      <td>89427.00</td>\n",
       "      <td>1178.0</td>\n",
       "      <td>0.386895</td>\n",
       "    </tr>\n",
       "  </tbody>\n",
       "</table>\n",
       "<p>1276 rows × 12 columns</p>\n",
       "</div>"
      ],
      "text/plain": [
       "           SaleID RetailerCountry  OrderMethod   RetailerType  \\\n",
       "0        SaleID_1   United States          Fax  Outdoors Shop   \n",
       "1        SaleID_2   United States          Fax  Outdoors Shop   \n",
       "2        SaleID_3   United States          Fax  Outdoors Shop   \n",
       "3        SaleID_4   United States          Fax  Outdoors Shop   \n",
       "4        SaleID_5   United States          NaN  Outdoors Shop   \n",
       "...           ...             ...          ...            ...   \n",
       "1271  SaleID_1272           Spain  Sales visit  Outdoors Shop   \n",
       "1272  SaleID_1273           Spain  Sales visit  Outdoors Shop   \n",
       "1273  SaleID_1274           Spain  Sales visit  Outdoors Shop   \n",
       "1274  SaleID_1275           Spain  Sales visit  Outdoors Shop   \n",
       "1275  SaleID_1276           Spain  Sales visit  Outdoors Shop   \n",
       "\n",
       "               ProductLine           ProductType                    Product  \\\n",
       "0     Personal Accessories          Cooking Gear  TrailChef Deluxe Cook Set   \n",
       "1         Sports Equipment          Cooking Gear     TrailChef Double Flame   \n",
       "2                      NaN                 Tents                  Star Dome   \n",
       "3                      NaN                 Tents               Star Gazer 2   \n",
       "4     Personal Accessories             First Aid         Compact Relief Kit   \n",
       "...                    ...                   ...                        ...   \n",
       "1271  Personal Accessories                  Rope              Husky Rope 60   \n",
       "1272    Outdoor Protection  Climbing Accessories      Firefly Climbing Lamp   \n",
       "1273  Personal Accessories  Climbing Accessories            Firefly Charger   \n",
       "1274  Personal Accessories                 Tools                Granite Axe   \n",
       "1275     Camping Equipment                 Tools            Granite Extreme   \n",
       "\n",
       "        Year  Quarter   Revenue  Quantity  GrossMargin  \n",
       "0     2018.0  Q1 2018  59728.66     491.0     0.357548  \n",
       "1     2018.0  Q1 2018  36050.32     254.0     0.484274  \n",
       "2     2018.0  Q1 2018  90040.48     149.0          NaN  \n",
       "3     2018.0  Q1 2018       NaN     305.0     0.292938  \n",
       "4     2018.0  Q1 2018       NaN     182.0     0.610710  \n",
       "...      ...      ...       ...       ...          ...  \n",
       "1271  2020.0  Q3 2020  30916.50     173.0     0.298114  \n",
       "1272  2020.0  Q3 2020   7536.29     193.0     0.445287  \n",
       "1273  2020.0  Q3 2020  12306.48     238.0     0.568420  \n",
       "1274  2020.0  Q3 2020  56499.00    1472.0     0.490667  \n",
       "1275  2020.0  Q3 2020  89427.00    1178.0     0.386895  \n",
       "\n",
       "[1276 rows x 12 columns]"
      ]
     },
     "execution_count": 2,
     "metadata": {},
     "output_type": "execute_result"
    }
   ],
   "source": [
    "df = pd.read_csv(\"Sales-products.csv\")\n",
    "df"
   ]
  },
  {
   "cell_type": "code",
   "execution_count": 3,
   "id": "fd2a0ee2",
   "metadata": {},
   "outputs": [
    {
     "data": {
      "text/html": [
       "<div>\n",
       "<style scoped>\n",
       "    .dataframe tbody tr th:only-of-type {\n",
       "        vertical-align: middle;\n",
       "    }\n",
       "\n",
       "    .dataframe tbody tr th {\n",
       "        vertical-align: top;\n",
       "    }\n",
       "\n",
       "    .dataframe thead th {\n",
       "        text-align: right;\n",
       "    }\n",
       "</style>\n",
       "<table border=\"1\" class=\"dataframe\">\n",
       "  <thead>\n",
       "    <tr style=\"text-align: right;\">\n",
       "      <th></th>\n",
       "      <th>SaleID</th>\n",
       "      <th>RetailerCountry</th>\n",
       "      <th>OrderMethod</th>\n",
       "      <th>RetailerType</th>\n",
       "      <th>ProductLine</th>\n",
       "      <th>ProductType</th>\n",
       "      <th>Product</th>\n",
       "      <th>Year</th>\n",
       "      <th>Quarter</th>\n",
       "      <th>Revenue</th>\n",
       "      <th>Quantity</th>\n",
       "      <th>GrossMargin</th>\n",
       "    </tr>\n",
       "  </thead>\n",
       "  <tbody>\n",
       "    <tr>\n",
       "      <th>0</th>\n",
       "      <td>SaleID_1</td>\n",
       "      <td>United States</td>\n",
       "      <td>Fax</td>\n",
       "      <td>Outdoors Shop</td>\n",
       "      <td>Personal Accessories</td>\n",
       "      <td>Cooking Gear</td>\n",
       "      <td>TrailChef Deluxe Cook Set</td>\n",
       "      <td>2018.0</td>\n",
       "      <td>Q1 2018</td>\n",
       "      <td>59728.66</td>\n",
       "      <td>491.0</td>\n",
       "      <td>0.357548</td>\n",
       "    </tr>\n",
       "    <tr>\n",
       "      <th>1</th>\n",
       "      <td>SaleID_2</td>\n",
       "      <td>United States</td>\n",
       "      <td>Fax</td>\n",
       "      <td>Outdoors Shop</td>\n",
       "      <td>Sports Equipment</td>\n",
       "      <td>Cooking Gear</td>\n",
       "      <td>TrailChef Double Flame</td>\n",
       "      <td>2018.0</td>\n",
       "      <td>Q1 2018</td>\n",
       "      <td>36050.32</td>\n",
       "      <td>254.0</td>\n",
       "      <td>0.484274</td>\n",
       "    </tr>\n",
       "    <tr>\n",
       "      <th>2</th>\n",
       "      <td>SaleID_3</td>\n",
       "      <td>United States</td>\n",
       "      <td>Fax</td>\n",
       "      <td>Outdoors Shop</td>\n",
       "      <td>NaN</td>\n",
       "      <td>Tents</td>\n",
       "      <td>Star Dome</td>\n",
       "      <td>2018.0</td>\n",
       "      <td>Q1 2018</td>\n",
       "      <td>90040.48</td>\n",
       "      <td>149.0</td>\n",
       "      <td>NaN</td>\n",
       "    </tr>\n",
       "    <tr>\n",
       "      <th>3</th>\n",
       "      <td>SaleID_4</td>\n",
       "      <td>United States</td>\n",
       "      <td>Fax</td>\n",
       "      <td>Outdoors Shop</td>\n",
       "      <td>NaN</td>\n",
       "      <td>Tents</td>\n",
       "      <td>Star Gazer 2</td>\n",
       "      <td>2018.0</td>\n",
       "      <td>Q1 2018</td>\n",
       "      <td>NaN</td>\n",
       "      <td>305.0</td>\n",
       "      <td>0.292938</td>\n",
       "    </tr>\n",
       "    <tr>\n",
       "      <th>4</th>\n",
       "      <td>SaleID_5</td>\n",
       "      <td>United States</td>\n",
       "      <td>NaN</td>\n",
       "      <td>Outdoors Shop</td>\n",
       "      <td>Personal Accessories</td>\n",
       "      <td>First Aid</td>\n",
       "      <td>Compact Relief Kit</td>\n",
       "      <td>2018.0</td>\n",
       "      <td>Q1 2018</td>\n",
       "      <td>NaN</td>\n",
       "      <td>182.0</td>\n",
       "      <td>0.610710</td>\n",
       "    </tr>\n",
       "  </tbody>\n",
       "</table>\n",
       "</div>"
      ],
      "text/plain": [
       "     SaleID RetailerCountry OrderMethod   RetailerType           ProductLine  \\\n",
       "0  SaleID_1   United States         Fax  Outdoors Shop  Personal Accessories   \n",
       "1  SaleID_2   United States         Fax  Outdoors Shop      Sports Equipment   \n",
       "2  SaleID_3   United States         Fax  Outdoors Shop                   NaN   \n",
       "3  SaleID_4   United States         Fax  Outdoors Shop                   NaN   \n",
       "4  SaleID_5   United States         NaN  Outdoors Shop  Personal Accessories   \n",
       "\n",
       "    ProductType                    Product    Year  Quarter   Revenue  \\\n",
       "0  Cooking Gear  TrailChef Deluxe Cook Set  2018.0  Q1 2018  59728.66   \n",
       "1  Cooking Gear     TrailChef Double Flame  2018.0  Q1 2018  36050.32   \n",
       "2         Tents                  Star Dome  2018.0  Q1 2018  90040.48   \n",
       "3         Tents               Star Gazer 2  2018.0  Q1 2018       NaN   \n",
       "4     First Aid         Compact Relief Kit  2018.0  Q1 2018       NaN   \n",
       "\n",
       "   Quantity  GrossMargin  \n",
       "0     491.0     0.357548  \n",
       "1     254.0     0.484274  \n",
       "2     149.0          NaN  \n",
       "3     305.0     0.292938  \n",
       "4     182.0     0.610710  "
      ]
     },
     "execution_count": 3,
     "metadata": {},
     "output_type": "execute_result"
    }
   ],
   "source": [
    "df.head()"
   ]
  },
  {
   "cell_type": "markdown",
   "id": "00a91884",
   "metadata": {},
   "source": [
    "# Construct dataframes in a professional way"
   ]
  },
  {
   "cell_type": "code",
   "execution_count": 4,
   "id": "8c41eb28",
   "metadata": {},
   "outputs": [
    {
     "data": {
      "text/html": [
       "<div>\n",
       "<style scoped>\n",
       "    .dataframe tbody tr th:only-of-type {\n",
       "        vertical-align: middle;\n",
       "    }\n",
       "\n",
       "    .dataframe tbody tr th {\n",
       "        vertical-align: top;\n",
       "    }\n",
       "\n",
       "    .dataframe thead th {\n",
       "        text-align: right;\n",
       "    }\n",
       "</style>\n",
       "<table border=\"1\" class=\"dataframe\">\n",
       "  <thead>\n",
       "    <tr style=\"text-align: right;\">\n",
       "      <th></th>\n",
       "      <th>ProductName</th>\n",
       "      <th>ProductPrice</th>\n",
       "    </tr>\n",
       "  </thead>\n",
       "  <tbody>\n",
       "    <tr>\n",
       "      <th>A</th>\n",
       "      <td>ProductA</td>\n",
       "      <td>223</td>\n",
       "    </tr>\n",
       "    <tr>\n",
       "      <th>B</th>\n",
       "      <td>ProductB</td>\n",
       "      <td>234</td>\n",
       "    </tr>\n",
       "    <tr>\n",
       "      <th>C</th>\n",
       "      <td>ProductC</td>\n",
       "      <td>456</td>\n",
       "    </tr>\n",
       "  </tbody>\n",
       "</table>\n",
       "</div>"
      ],
      "text/plain": [
       "  ProductName  ProductPrice\n",
       "A    ProductA           223\n",
       "B    ProductB           234\n",
       "C    ProductC           456"
      ]
     },
     "execution_count": 4,
     "metadata": {},
     "output_type": "execute_result"
    }
   ],
   "source": [
    "df1 = pd.DataFrame(data = [['ProductA',223], ['ProductB',234], ['ProductC',456]],\n",
    "                  columns = ['ProductName', 'ProductPrice'],\n",
    "                  index = ['A','B','C'])\n",
    "df1"
   ]
  },
  {
   "cell_type": "code",
   "execution_count": 5,
   "id": "504fca45",
   "metadata": {},
   "outputs": [
    {
     "data": {
      "text/plain": [
       "944436.75"
      ]
     },
     "execution_count": 5,
     "metadata": {},
     "output_type": "execute_result"
    }
   ],
   "source": [
    "df['Revenue'].max()"
   ]
  },
  {
   "cell_type": "code",
   "execution_count": 6,
   "id": "defaa2f5",
   "metadata": {},
   "outputs": [],
   "source": [
    "name = \"priya\""
   ]
  },
  {
   "cell_type": "code",
   "execution_count": 7,
   "id": "e691c3b2",
   "metadata": {},
   "outputs": [
    {
     "name": "stdout",
     "output_type": "stream",
     "text": [
      "priya\n"
     ]
    }
   ],
   "source": [
    "print(name)"
   ]
  },
  {
   "cell_type": "code",
   "execution_count": 8,
   "id": "2423f424",
   "metadata": {},
   "outputs": [],
   "source": [
    "import numpy as np"
   ]
  },
  {
   "cell_type": "code",
   "execution_count": 9,
   "id": "89ee60db",
   "metadata": {},
   "outputs": [
    {
     "data": {
      "text/plain": [
       "array([1, 2])"
      ]
     },
     "execution_count": 9,
     "metadata": {},
     "output_type": "execute_result"
    }
   ],
   "source": [
    "arr = np.array([1,2])\n",
    "arr"
   ]
  },
  {
   "cell_type": "code",
   "execution_count": 10,
   "id": "5cc8af85",
   "metadata": {},
   "outputs": [
    {
     "name": "stdout",
     "output_type": "stream",
     "text": [
      "[1 2]\n"
     ]
    }
   ],
   "source": [
    "print(arr)"
   ]
  },
  {
   "cell_type": "markdown",
   "id": "a77436c3",
   "metadata": {},
   "source": [
    "# import text file in python"
   ]
  },
  {
   "cell_type": "code",
   "execution_count": 11,
   "id": "0bd7e396",
   "metadata": {},
   "outputs": [
    {
     "data": {
      "text/plain": [
       "'E:/desktop/HCL/sample.txt'"
      ]
     },
     "execution_count": 11,
     "metadata": {},
     "output_type": "execute_result"
    }
   ],
   "source": [
    "filename = \"E:/desktop/HCL/sample.txt\"  #use forward slash\n",
    "filename"
   ]
  },
  {
   "cell_type": "markdown",
   "id": "5788ca6a",
   "metadata": {},
   "source": [
    "here now we will open the file through file function\n",
    "giving the paramneter(file name , mode(which means in which mode i need to open the file,-> only for reading,only for writing,only for reading and writing))"
   ]
  },
  {
   "cell_type": "code",
   "execution_count": 12,
   "id": "0cd79dcf",
   "metadata": {},
   "outputs": [],
   "source": [
    "file = open(filename, mode = 'r')"
   ]
  },
  {
   "cell_type": "code",
   "execution_count": 13,
   "id": "97ba89eb",
   "metadata": {},
   "outputs": [
    {
     "data": {
      "text/plain": [
       "<_io.TextIOWrapper name='E:/desktop/HCL/sample.txt' mode='r' encoding='cp1252'>"
      ]
     },
     "execution_count": 13,
     "metadata": {},
     "output_type": "execute_result"
    }
   ],
   "source": [
    "file"
   ]
  },
  {
   "cell_type": "code",
   "execution_count": 14,
   "id": "67b3fe79",
   "metadata": {},
   "outputs": [
    {
     "data": {
      "text/plain": [
       "'Hi my name is Anand.\\n'"
      ]
     },
     "execution_count": 14,
     "metadata": {},
     "output_type": "execute_result"
    }
   ],
   "source": [
    "file.read()"
   ]
  },
  {
   "cell_type": "code",
   "execution_count": 15,
   "id": "3a755bc9",
   "metadata": {},
   "outputs": [],
   "source": [
    "file.close()"
   ]
  },
  {
   "cell_type": "code",
   "execution_count": 16,
   "id": "2f8cac0a",
   "metadata": {},
   "outputs": [
    {
     "ename": "ValueError",
     "evalue": "I/O operation on closed file.",
     "output_type": "error",
     "traceback": [
      "\u001b[1;31m---------------------------------------------------------------------------\u001b[0m",
      "\u001b[1;31mValueError\u001b[0m                                Traceback (most recent call last)",
      "\u001b[1;32m~\\AppData\\Local\\Temp\\ipykernel_14112\\1407933502.py\u001b[0m in \u001b[0;36m<module>\u001b[1;34m\u001b[0m\n\u001b[1;32m----> 1\u001b[1;33m \u001b[0mfile\u001b[0m\u001b[1;33m.\u001b[0m\u001b[0mread\u001b[0m\u001b[1;33m(\u001b[0m\u001b[1;33m)\u001b[0m\u001b[1;33m\u001b[0m\u001b[1;33m\u001b[0m\u001b[0m\n\u001b[0m",
      "\u001b[1;31mValueError\u001b[0m: I/O operation on closed file."
     ]
    }
   ],
   "source": [
    "file.read()"
   ]
  },
  {
   "cell_type": "markdown",
   "id": "071bd53e",
   "metadata": {},
   "source": [
    "write a text in a text file(sample1.txt)"
   ]
  },
  {
   "cell_type": "code",
   "execution_count": null,
   "id": "b84b5116",
   "metadata": {},
   "outputs": [],
   "source": [
    "with open('E:/desktop/HCL/sample1.txt' , 'w') as out_file:\n",
    "    out_file.write(\"This is new sample file\")"
   ]
  },
  {
   "cell_type": "code",
   "execution_count": null,
   "id": "b9ba2686",
   "metadata": {},
   "outputs": [],
   "source": [
    "print(out_file)"
   ]
  },
  {
   "cell_type": "markdown",
   "id": "ae80f897",
   "metadata": {},
   "source": [
    "line already written in newly created file but to see it we use read mode"
   ]
  },
  {
   "cell_type": "code",
   "execution_count": null,
   "id": "a1d08736",
   "metadata": {},
   "outputs": [],
   "source": [
    "with open('E:/desktop/HCL/sample1.txt' , 'r') as out_file:\n",
    "    new_text = out_file.read()"
   ]
  },
  {
   "cell_type": "code",
   "execution_count": null,
   "id": "eca08e42",
   "metadata": {},
   "outputs": [],
   "source": [
    "print(new_text)"
   ]
  },
  {
   "cell_type": "code",
   "execution_count": null,
   "id": "a77f77bc",
   "metadata": {},
   "outputs": [],
   "source": [
    "#with is used to close the connection or close the text file after we used it"
   ]
  },
  {
   "cell_type": "code",
   "execution_count": null,
   "id": "a1045338",
   "metadata": {},
   "outputs": [],
   "source": [
    "df1 = pd.read_csv(\"Sales-products.csv\" , index_col = \"SaleID\")\n",
    "df1"
   ]
  },
  {
   "cell_type": "code",
   "execution_count": null,
   "id": "98ec5151",
   "metadata": {},
   "outputs": [],
   "source": [
    "df"
   ]
  },
  {
   "cell_type": "markdown",
   "id": "6e2a0981",
   "metadata": {},
   "source": [
    "# using np.loadtxt() and np.genfromtext()"
   ]
  },
  {
   "cell_type": "code",
   "execution_count": null,
   "id": "b7aaad94",
   "metadata": {},
   "outputs": [],
   "source": [
    "import numpy as np\n"
   ]
  },
  {
   "cell_type": "code",
   "execution_count": null,
   "id": "a4b92a41",
   "metadata": {},
   "outputs": [],
   "source": [
    "sales = np.loadtxt(\"Lending-Company-Numeric-Data.csv\", delimiter = \",\")\n",
    "sales"
   ]
  },
  {
   "cell_type": "code",
   "execution_count": null,
   "id": "678b08ed",
   "metadata": {},
   "outputs": [],
   "source": [
    "sales1 = np.genfromtxt(\"Lending-Company-Numeric-Data.csv\", delimiter = \",\")\n",
    "sales1"
   ]
  },
  {
   "cell_type": "code",
   "execution_count": null,
   "id": "5386d8d3",
   "metadata": {},
   "outputs": [],
   "source": [
    "sales1 = np.genfromtxt(\"Lending-Company-Numeric-Data.csv\", delimiter = \",\", skip_header = 4) #skip_header = 4 should remove the first 4 line\n",
    "sales1"
   ]
  },
  {
   "cell_type": "markdown",
   "id": "4d800a64",
   "metadata": {},
   "source": [
    "to import coulmns which we need"
   ]
  },
  {
   "cell_type": "code",
   "execution_count": null,
   "id": "b7c15ee4",
   "metadata": {},
   "outputs": [],
   "source": [
    "df1"
   ]
  },
  {
   "cell_type": "code",
   "execution_count": null,
   "id": "ba3eabef",
   "metadata": {},
   "outputs": [],
   "source": [
    "df1 = pd.read_csv('Sales-products.csv' , usecols = (1,2) )\n",
    "df1.head()"
   ]
  },
  {
   "cell_type": "code",
   "execution_count": null,
   "id": "3b66d09d",
   "metadata": {},
   "outputs": [],
   "source": [
    "df1 = pd.read_csv(\"Sales-products.csv\", usecols = ['OrderMethod','RetailerType'])\n",
    "df1"
   ]
  },
  {
   "cell_type": "code",
   "execution_count": null,
   "id": "3ba2c608",
   "metadata": {},
   "outputs": [],
   "source": [
    "df2 = pd.read_csv(\"Lending-Company-Saving.csv\")"
   ]
  },
  {
   "cell_type": "code",
   "execution_count": null,
   "id": "26b2207c",
   "metadata": {},
   "outputs": [],
   "source": [
    "df2"
   ]
  },
  {
   "cell_type": "code",
   "execution_count": null,
   "id": "9c5b4a44",
   "metadata": {},
   "outputs": [],
   "source": [
    "df2.squeeze(\"columns\")"
   ]
  },
  {
   "cell_type": "code",
   "execution_count": null,
   "id": "e1663a16",
   "metadata": {},
   "outputs": [],
   "source": [
    "sales2 = np.genfromtxt(\"Lending-Company-Numeric-Data.csv\",\n",
    "                       delimiter = \",\",\n",
    "                       dtype = str) \n",
    "sales2"
   ]
  },
  {
   "cell_type": "markdown",
   "id": "00df8d4c",
   "metadata": {},
   "source": [
    "# saving data with numpy"
   ]
  },
  {
   "cell_type": "code",
   "execution_count": null,
   "id": "4251beb3",
   "metadata": {},
   "outputs": [],
   "source": [
    "data = np.save(\"numpy-data1\",sales2) # we take two argyments i.e filename and varaible in whcih data is stored"
   ]
  },
  {
   "cell_type": "code",
   "execution_count": null,
   "id": "3130bff8",
   "metadata": {},
   "outputs": [],
   "source": [
    "data"
   ]
  },
  {
   "cell_type": "code",
   "execution_count": null,
   "id": "90017aa6",
   "metadata": {},
   "outputs": [],
   "source": [
    "texts = np.load(\"numpy-data1.npy\")"
   ]
  },
  {
   "cell_type": "code",
   "execution_count": null,
   "id": "d67ccc38",
   "metadata": {},
   "outputs": [],
   "source": [
    "print(texts)"
   ]
  },
  {
   "cell_type": "code",
   "execution_count": null,
   "id": "398f9613",
   "metadata": {},
   "outputs": [],
   "source": [
    "np.savetxt(\"numpy-data3.txt\",sales2, fmt = '%s',delimiter=',')"
   ]
  },
  {
   "cell_type": "code",
   "execution_count": null,
   "id": "0fa7dbbc",
   "metadata": {},
   "outputs": [],
   "source": [
    "loading = np.genfromtxt(\"numpy-data3.txt\",delimiter = \",\",\n",
    "                       dtype = str)\n",
    "laoding"
   ]
  },
  {
   "cell_type": "code",
   "execution_count": null,
   "id": "8898cd30",
   "metadata": {},
   "outputs": [],
   "source": []
  },
  {
   "cell_type": "code",
   "execution_count": null,
   "id": "a211fdd9",
   "metadata": {},
   "outputs": [],
   "source": []
  },
  {
   "cell_type": "code",
   "execution_count": null,
   "id": "ba14fee8",
   "metadata": {},
   "outputs": [],
   "source": []
  }
 ],
 "metadata": {
  "kernelspec": {
   "display_name": "Python 3 (ipykernel)",
   "language": "python",
   "name": "python3"
  },
  "language_info": {
   "codemirror_mode": {
    "name": "ipython",
    "version": 3
   },
   "file_extension": ".py",
   "mimetype": "text/x-python",
   "name": "python",
   "nbconvert_exporter": "python",
   "pygments_lexer": "ipython3",
   "version": "3.9.13"
  }
 },
 "nbformat": 4,
 "nbformat_minor": 5
}
