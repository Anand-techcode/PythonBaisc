{
 "cells": [
  {
   "cell_type": "markdown",
   "id": "ebff49df",
   "metadata": {},
   "source": [
    "# Tuples"
   ]
  },
  {
   "cell_type": "code",
   "execution_count": 3,
   "id": "e11f9c45",
   "metadata": {},
   "outputs": [],
   "source": [
    "name=(\"anand\",)"
   ]
  },
  {
   "cell_type": "code",
   "execution_count": 4,
   "id": "9cad2e91",
   "metadata": {},
   "outputs": [
    {
     "data": {
      "text/plain": [
       "tuple"
      ]
     },
     "execution_count": 4,
     "metadata": {},
     "output_type": "execute_result"
    }
   ],
   "source": [
    "type(name)"
   ]
  },
  {
   "cell_type": "markdown",
   "id": "b643e53f",
   "metadata": {},
   "source": [
    "List into tuple"
   ]
  },
  {
   "cell_type": "code",
   "execution_count": 16,
   "id": "380e8623",
   "metadata": {},
   "outputs": [],
   "source": [
    "num = (1,2,3,4,6)"
   ]
  },
  {
   "cell_type": "code",
   "execution_count": 20,
   "id": "83e7f416",
   "metadata": {},
   "outputs": [],
   "source": [
    "list=[]"
   ]
  },
  {
   "cell_type": "markdown",
   "id": "89f9e4c3",
   "metadata": {},
   "source": [
    "Tuples within the list"
   ]
  },
  {
   "cell_type": "code",
   "execution_count": 23,
   "id": "c275e618",
   "metadata": {},
   "outputs": [],
   "source": [
    "list_1 = [name]"
   ]
  },
  {
   "cell_type": "code",
   "execution_count": 24,
   "id": "ee5e9275",
   "metadata": {},
   "outputs": [],
   "source": [
    "list_2 = [num]"
   ]
  },
  {
   "cell_type": "code",
   "execution_count": 25,
   "id": "896efeb1",
   "metadata": {},
   "outputs": [
    {
     "data": {
      "text/plain": [
       "[('anand',)]"
      ]
     },
     "execution_count": 25,
     "metadata": {},
     "output_type": "execute_result"
    }
   ],
   "source": [
    "list_1"
   ]
  },
  {
   "cell_type": "code",
   "execution_count": 26,
   "id": "16871362",
   "metadata": {},
   "outputs": [
    {
     "data": {
      "text/plain": [
       "([('anand',)], [(1, 2, 3, 4, 6)])"
      ]
     },
     "execution_count": 26,
     "metadata": {},
     "output_type": "execute_result"
    }
   ],
   "source": [
    "list_1,list_2"
   ]
  },
  {
   "cell_type": "markdown",
   "id": "6664e386",
   "metadata": {},
   "source": [
    "Split"
   ]
  },
  {
   "cell_type": "code",
   "execution_count": 32,
   "id": "e94f98db",
   "metadata": {},
   "outputs": [],
   "source": [
    "(age,year)=\"18\",\"33\".split(\",\")"
   ]
  },
  {
   "cell_type": "code",
   "execution_count": 33,
   "id": "520ffa77",
   "metadata": {},
   "outputs": [
    {
     "data": {
      "text/plain": [
       "('18', ['33'])"
      ]
     },
     "execution_count": 33,
     "metadata": {},
     "output_type": "execute_result"
    }
   ],
   "source": [
    "age,year"
   ]
  },
  {
   "cell_type": "code",
   "execution_count": 34,
   "id": "78cddfe5",
   "metadata": {},
   "outputs": [
    {
     "data": {
      "text/plain": [
       "str"
      ]
     },
     "execution_count": 34,
     "metadata": {},
     "output_type": "execute_result"
    }
   ],
   "source": [
    "type(age)"
   ]
  },
  {
   "cell_type": "code",
   "execution_count": 35,
   "id": "8629cb52",
   "metadata": {},
   "outputs": [
    {
     "data": {
      "text/plain": [
       "list"
      ]
     },
     "execution_count": 35,
     "metadata": {},
     "output_type": "execute_result"
    }
   ],
   "source": [
    "type(year)"
   ]
  },
  {
   "cell_type": "code",
   "execution_count": 36,
   "id": "89a20a92",
   "metadata": {},
   "outputs": [
    {
     "name": "stdout",
     "output_type": "stream",
     "text": [
      "Requirement already satisfied: numpy in c:\\users\\hp\\anaconda3\\lib\\site-packages (1.21.5)\n",
      "Note: you may need to restart the kernel to use updated packages.\n"
     ]
    }
   ],
   "source": [
    "pip install numpy"
   ]
  },
  {
   "cell_type": "code",
   "execution_count": null,
   "id": "dbfeb7e0",
   "metadata": {},
   "outputs": [],
   "source": []
  }
 ],
 "metadata": {
  "kernelspec": {
   "display_name": "Python 3 (ipykernel)",
   "language": "python",
   "name": "python3"
  },
  "language_info": {
   "codemirror_mode": {
    "name": "ipython",
    "version": 3
   },
   "file_extension": ".py",
   "mimetype": "text/x-python",
   "name": "python",
   "nbconvert_exporter": "python",
   "pygments_lexer": "ipython3",
   "version": "3.9.13"
  }
 },
 "nbformat": 4,
 "nbformat_minor": 5
}
