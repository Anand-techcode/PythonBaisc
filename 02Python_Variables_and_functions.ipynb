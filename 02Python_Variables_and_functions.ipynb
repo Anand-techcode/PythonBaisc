{
 "cells": [
  {
   "cell_type": "code",
   "execution_count": 1,
   "id": "5c1508a1",
   "metadata": {},
   "outputs": [],
   "source": [
    "x=5"
   ]
  },
  {
   "cell_type": "code",
   "execution_count": 2,
   "id": "b1c0aff3",
   "metadata": {},
   "outputs": [
    {
     "data": {
      "text/plain": [
       "5"
      ]
     },
     "execution_count": 2,
     "metadata": {},
     "output_type": "execute_result"
    }
   ],
   "source": [
    "x"
   ]
  },
  {
   "cell_type": "code",
   "execution_count": 3,
   "id": "c53c83a6",
   "metadata": {},
   "outputs": [],
   "source": [
    "y=8 #case sentive"
   ]
  },
  {
   "cell_type": "code",
   "execution_count": 4,
   "id": "4f65ff14",
   "metadata": {},
   "outputs": [
    {
     "ename": "NameError",
     "evalue": "name 'Y' is not defined",
     "output_type": "error",
     "traceback": [
      "\u001b[1;31m---------------------------------------------------------------------------\u001b[0m",
      "\u001b[1;31mNameError\u001b[0m                                 Traceback (most recent call last)",
      "\u001b[1;32m~\\AppData\\Local\\Temp\\ipykernel_14048\\2821689564.py\u001b[0m in \u001b[0;36m<module>\u001b[1;34m\u001b[0m\n\u001b[1;32m----> 1\u001b[1;33m \u001b[0mY\u001b[0m\u001b[1;33m\u001b[0m\u001b[1;33m\u001b[0m\u001b[0m\n\u001b[0m",
      "\u001b[1;31mNameError\u001b[0m: name 'Y' is not defined"
     ]
    }
   ],
   "source": [
    "Y"
   ]
  },
  {
   "cell_type": "code",
   "execution_count": 5,
   "id": "1d3f8fcd",
   "metadata": {},
   "outputs": [
    {
     "data": {
      "text/plain": [
       "8"
      ]
     },
     "execution_count": 5,
     "metadata": {},
     "output_type": "execute_result"
    }
   ],
   "source": [
    "y"
   ]
  },
  {
   "cell_type": "code",
   "execution_count": 6,
   "id": "757984c9",
   "metadata": {},
   "outputs": [],
   "source": [
    "#assign values in same line\n",
    "x,y = (1,2)"
   ]
  },
  {
   "cell_type": "code",
   "execution_count": 7,
   "id": "f61fe361",
   "metadata": {},
   "outputs": [
    {
     "data": {
      "text/plain": [
       "(1, 2)"
      ]
     },
     "execution_count": 7,
     "metadata": {},
     "output_type": "execute_result"
    }
   ],
   "source": [
    "x,y"
   ]
  },
  {
   "cell_type": "code",
   "execution_count": 8,
   "id": "fe0e4656",
   "metadata": {},
   "outputs": [],
   "source": [
    "x=20"
   ]
  },
  {
   "cell_type": "code",
   "execution_count": 9,
   "id": "00926283",
   "metadata": {},
   "outputs": [
    {
     "data": {
      "text/plain": [
       "20"
      ]
     },
     "execution_count": 9,
     "metadata": {},
     "output_type": "execute_result"
    }
   ],
   "source": [
    "x"
   ]
  },
  {
   "cell_type": "code",
   "execution_count": 10,
   "id": "dd1921a8",
   "metadata": {},
   "outputs": [
    {
     "name": "stdout",
     "output_type": "stream",
     "text": [
      "20\n"
     ]
    }
   ],
   "source": [
    "print(x)"
   ]
  },
  {
   "cell_type": "code",
   "execution_count": 11,
   "id": "9b6c8bb8",
   "metadata": {},
   "outputs": [],
   "source": [
    "x=45"
   ]
  },
  {
   "cell_type": "code",
   "execution_count": 12,
   "id": "cd4ed87a",
   "metadata": {},
   "outputs": [
    {
     "data": {
      "text/plain": [
       "int"
      ]
     },
     "execution_count": 12,
     "metadata": {},
     "output_type": "execute_result"
    }
   ],
   "source": [
    "type(x)"
   ]
  },
  {
   "cell_type": "code",
   "execution_count": 13,
   "id": "f7b23551",
   "metadata": {},
   "outputs": [
    {
     "data": {
      "text/plain": [
       "int"
      ]
     },
     "execution_count": 13,
     "metadata": {},
     "output_type": "execute_result"
    }
   ],
   "source": [
    "type(-8)"
   ]
  },
  {
   "cell_type": "code",
   "execution_count": 14,
   "id": "03024f78",
   "metadata": {},
   "outputs": [
    {
     "data": {
      "text/plain": [
       "float"
      ]
     },
     "execution_count": 14,
     "metadata": {},
     "output_type": "execute_result"
    }
   ],
   "source": [
    "c=7.3\n",
    "type(c)"
   ]
  },
  {
   "cell_type": "code",
   "execution_count": 15,
   "id": "9a628184",
   "metadata": {},
   "outputs": [],
   "source": [
    "\n",
    "s=\"anand\""
   ]
  },
  {
   "cell_type": "code",
   "execution_count": 16,
   "id": "055ad3a5",
   "metadata": {},
   "outputs": [
    {
     "data": {
      "text/plain": [
       "'anand'"
      ]
     },
     "execution_count": 16,
     "metadata": {},
     "output_type": "execute_result"
    }
   ],
   "source": [
    "s"
   ]
  },
  {
   "cell_type": "code",
   "execution_count": 17,
   "id": "adcace52",
   "metadata": {},
   "outputs": [],
   "source": [
    "ss='Anand'"
   ]
  },
  {
   "cell_type": "code",
   "execution_count": 18,
   "id": "c4812dfb",
   "metadata": {},
   "outputs": [
    {
     "data": {
      "text/plain": [
       "'Anand'"
      ]
     },
     "execution_count": 18,
     "metadata": {},
     "output_type": "execute_result"
    }
   ],
   "source": [
    "ss\n"
   ]
  },
  {
   "cell_type": "code",
   "execution_count": 19,
   "id": "a912e1ff",
   "metadata": {},
   "outputs": [
    {
     "name": "stdout",
     "output_type": "stream",
     "text": [
      "anand\n"
     ]
    }
   ],
   "source": [
    "print(s) #it remove the -->  ' ' "
   ]
  },
  {
   "cell_type": "code",
   "execution_count": 20,
   "id": "9e394b2a",
   "metadata": {},
   "outputs": [
    {
     "name": "stdout",
     "output_type": "stream",
     "text": [
      "Anand\n"
     ]
    }
   ],
   "source": [
    "print(ss)"
   ]
  },
  {
   "cell_type": "code",
   "execution_count": 23,
   "id": "61c5b1a1",
   "metadata": {},
   "outputs": [
    {
     "ename": "TypeError",
     "evalue": "unsupported operand type(s) for +: 'int' and 'str'",
     "output_type": "error",
     "traceback": [
      "\u001b[1;31m---------------------------------------------------------------------------\u001b[0m",
      "\u001b[1;31mTypeError\u001b[0m                                 Traceback (most recent call last)",
      "\u001b[1;32m~\\AppData\\Local\\Temp\\ipykernel_14048\\748778465.py\u001b[0m in \u001b[0;36m<module>\u001b[1;34m\u001b[0m\n\u001b[1;32m----> 1\u001b[1;33m \u001b[0my\u001b[0m\u001b[1;33m=\u001b[0m\u001b[1;33m(\u001b[0m\u001b[1;36m56\u001b[0m \u001b[1;33m+\u001b[0m \u001b[1;34m\"Dollars\"\u001b[0m\u001b[1;33m)\u001b[0m\u001b[1;33m\u001b[0m\u001b[1;33m\u001b[0m\u001b[0m\n\u001b[0m\u001b[0;32m      2\u001b[0m \u001b[0my\u001b[0m\u001b[1;33m\u001b[0m\u001b[1;33m\u001b[0m\u001b[0m\n",
      "\u001b[1;31mTypeError\u001b[0m: unsupported operand type(s) for +: 'int' and 'str'"
     ]
    }
   ],
   "source": [
    "y=(56 + \"Dollars\")\n",
    "y"
   ]
  },
  {
   "cell_type": "code",
   "execution_count": 22,
   "id": "c01e2dcc",
   "metadata": {},
   "outputs": [
    {
     "name": "stdout",
     "output_type": "stream",
     "text": [
      "56Dollar\n"
     ]
    }
   ],
   "source": [
    "#so we convert 56 in to string\n",
    "y=(str(56) + \"Dollar\")\n",
    "print(y)"
   ]
  },
  {
   "cell_type": "code",
   "execution_count": 24,
   "id": "05df6d9a",
   "metadata": {},
   "outputs": [
    {
     "name": "stdout",
     "output_type": "stream",
     "text": [
      "I am 'fine'\n"
     ]
    }
   ],
   "source": [
    "print(\"I am 'fine'\")"
   ]
  },
  {
   "cell_type": "code",
   "execution_count": 25,
   "id": "9debad2d",
   "metadata": {},
   "outputs": [
    {
     "ename": "SyntaxError",
     "evalue": "invalid syntax (678320842.py, line 1)",
     "output_type": "error",
     "traceback": [
      "\u001b[1;36m  File \u001b[1;32m\"C:\\Users\\hp\\AppData\\Local\\Temp\\ipykernel_14048\\678320842.py\"\u001b[1;36m, line \u001b[1;32m1\u001b[0m\n\u001b[1;33m    print('I'm fine')\u001b[0m\n\u001b[1;37m             ^\u001b[0m\n\u001b[1;31mSyntaxError\u001b[0m\u001b[1;31m:\u001b[0m invalid syntax\n"
     ]
    }
   ],
   "source": [
    "print('I'm fine')"
   ]
  },
  {
   "cell_type": "code",
   "execution_count": 27,
   "id": "a4418ebc",
   "metadata": {},
   "outputs": [
    {
     "name": "stdout",
     "output_type": "stream",
     "text": [
      "I'm fine\n"
     ]
    }
   ],
   "source": [
    "#here we use blackslash which is known as ESCape Squence\n",
    "print('I\\'m fine')"
   ]
  },
  {
   "cell_type": "code",
   "execution_count": 35,
   "id": "6e163794",
   "metadata": {},
   "outputs": [
    {
     "name": "stdout",
     "output_type": "stream",
     "text": [
      "I 'm fine\n"
     ]
    }
   ],
   "source": [
    "print(r\"I 'm fine\") #raw string"
   ]
  },
  {
   "cell_type": "code",
   "execution_count": 36,
   "id": "99e1b279",
   "metadata": {},
   "outputs": [
    {
     "name": "stdout",
     "output_type": "stream",
     "text": [
      "RedCar\n"
     ]
    }
   ],
   "source": [
    "print('Red' + 'Car')"
   ]
  },
  {
   "cell_type": "code",
   "execution_count": 39,
   "id": "e2db6cb5",
   "metadata": {},
   "outputs": [
    {
     "name": "stdout",
     "output_type": "stream",
     "text": [
      "Red car\n"
     ]
    }
   ],
   "source": [
    "\n",
    "print('Red' , 'car')"
   ]
  },
  {
   "cell_type": "code",
   "execution_count": 40,
   "id": "0a8ccc29",
   "metadata": {},
   "outputs": [
    {
     "name": "stdout",
     "output_type": "stream",
     "text": [
      "Aren't you hungry?\n"
     ]
    }
   ],
   "source": [
    "print(\"Aren't you hungry?\")"
   ]
  },
  {
   "cell_type": "markdown",
   "id": "4c93293d",
   "metadata": {},
   "source": [
    "# Reassign the values"
   ]
  },
  {
   "cell_type": "code",
   "execution_count": 41,
   "id": "33d4b74d",
   "metadata": {},
   "outputs": [
    {
     "data": {
      "text/plain": [
       "1"
      ]
     },
     "execution_count": 41,
     "metadata": {},
     "output_type": "execute_result"
    }
   ],
   "source": [
    "z=1\n",
    "z"
   ]
  },
  {
   "cell_type": "code",
   "execution_count": 42,
   "id": "6ba7bc9a",
   "metadata": {},
   "outputs": [
    {
     "data": {
      "text/plain": [
       "3"
      ]
     },
     "execution_count": 42,
     "metadata": {},
     "output_type": "execute_result"
    }
   ],
   "source": [
    "z=3\n",
    "z"
   ]
  },
  {
   "cell_type": "markdown",
   "id": "93e6b741",
   "metadata": {},
   "source": [
    "# Indentation"
   ]
  },
  {
   "cell_type": "code",
   "execution_count": 44,
   "id": "5ebdded2",
   "metadata": {},
   "outputs": [
    {
     "name": "stdout",
     "output_type": "stream",
     "text": [
      "5\n"
     ]
    }
   ],
   "source": [
    "def add(a,b):\n",
    "    return a+b #use TAB for proper indentation\n",
    "print(add(2,3))"
   ]
  },
  {
   "cell_type": "markdown",
   "id": "f4572a8c",
   "metadata": {},
   "source": [
    "# IF statements"
   ]
  },
  {
   "cell_type": "code",
   "execution_count": 45,
   "id": "dfd2e5fa",
   "metadata": {},
   "outputs": [
    {
     "name": "stdout",
     "output_type": "stream",
     "text": [
      "OOOO\n"
     ]
    }
   ],
   "source": [
    "if 18>23:\n",
    "    print(\"YES\")\n",
    "else:\n",
    "    print(\"OOOO\")"
   ]
  },
  {
   "cell_type": "code",
   "execution_count": 46,
   "id": "10cc7c8d",
   "metadata": {},
   "outputs": [
    {
     "name": "stdout",
     "output_type": "stream",
     "text": [
      "Enter the number3\n",
      "6\n"
     ]
    }
   ],
   "source": [
    "a=int(input(\"Enter the number\"))\n",
    "print(a+3)"
   ]
  },
  {
   "cell_type": "markdown",
   "id": "68ed2177",
   "metadata": {},
   "source": [
    "# Functions"
   ]
  },
  {
   "cell_type": "code",
   "execution_count": 49,
   "id": "0dd1dc5e",
   "metadata": {},
   "outputs": [],
   "source": [
    "# def is the keyword to define the function\n",
    "def add(): #without parameter\n",
    "    print(\"ADD function\")"
   ]
  },
  {
   "cell_type": "code",
   "execution_count": 50,
   "id": "1e1282e4",
   "metadata": {},
   "outputs": [
    {
     "name": "stdout",
     "output_type": "stream",
     "text": [
      "ADD function\n"
     ]
    }
   ],
   "source": [
    "#call the function\n",
    "add()"
   ]
  },
  {
   "cell_type": "code",
   "execution_count": 51,
   "id": "9d44c8a4",
   "metadata": {},
   "outputs": [],
   "source": [
    "def sub(a,b):\n",
    "    return a-b"
   ]
  },
  {
   "cell_type": "code",
   "execution_count": 52,
   "id": "999155fe",
   "metadata": {},
   "outputs": [
    {
     "data": {
      "text/plain": [
       "40"
      ]
     },
     "execution_count": 52,
     "metadata": {},
     "output_type": "execute_result"
    }
   ],
   "source": [
    "sub(45,5)"
   ]
  },
  {
   "cell_type": "code",
   "execution_count": 55,
   "id": "8074f3b3",
   "metadata": {},
   "outputs": [],
   "source": [
    "def mult(a,b):\n",
    "    res = a*b\n",
    "    return res"
   ]
  },
  {
   "cell_type": "code",
   "execution_count": 56,
   "id": "07c271a1",
   "metadata": {},
   "outputs": [
    {
     "data": {
      "text/plain": [
       "12"
      ]
     },
     "execution_count": 56,
     "metadata": {},
     "output_type": "execute_result"
    }
   ],
   "source": [
    "mult(3,4)"
   ]
  },
  {
   "cell_type": "code",
   "execution_count": 57,
   "id": "4bcbf8d4",
   "metadata": {},
   "outputs": [],
   "source": [
    "def mult(a,b):\n",
    "    res = a*b\n",
    "    print(res)"
   ]
  },
  {
   "cell_type": "code",
   "execution_count": 58,
   "id": "40a4d250",
   "metadata": {},
   "outputs": [
    {
     "name": "stdout",
     "output_type": "stream",
     "text": [
      "20\n"
     ]
    }
   ],
   "source": [
    "mult(4,5)"
   ]
  },
  {
   "cell_type": "markdown",
   "id": "ceb1ea0e",
   "metadata": {},
   "source": [
    "# Using function inside the function"
   ]
  },
  {
   "cell_type": "code",
   "execution_count": 63,
   "id": "ced2651d",
   "metadata": {},
   "outputs": [],
   "source": [
    "def wage(hours):\n",
    "    return hours * 25 #50\n",
    "\n",
    "def bonus(hours):\n",
    "    return wage(hours) + 50  #"
   ]
  },
  {
   "cell_type": "code",
   "execution_count": 66,
   "id": "00d9ac07",
   "metadata": {},
   "outputs": [
    {
     "data": {
      "text/plain": [
       "(200, 250)"
      ]
     },
     "execution_count": 66,
     "metadata": {},
     "output_type": "execute_result"
    }
   ],
   "source": [
    "wage(8), bonus(8)"
   ]
  },
  {
   "cell_type": "code",
   "execution_count": 68,
   "id": "3836d64a",
   "metadata": {},
   "outputs": [
    {
     "data": {
      "text/plain": [
       "(50, 150)"
      ]
     },
     "execution_count": 68,
     "metadata": {},
     "output_type": "execute_result"
    }
   ],
   "source": [
    "wage(2), bonus(4)"
   ]
  },
  {
   "cell_type": "markdown",
   "id": "64dc3f29",
   "metadata": {},
   "source": [
    "name,age = (\"Enter name and age\").split(\",\")"
   ]
  },
  {
   "cell_type": "code",
   "execution_count": 7,
   "id": "29ae74a8",
   "metadata": {},
   "outputs": [
    {
     "name": "stdout",
     "output_type": "stream",
     "text": [
      "Enter name and ageAnand,23\n",
      "Anand 23\n"
     ]
    }
   ],
   "source": [
    "name,age = input((\"Enter name and age\")).split(\",\")\n",
    "print(name, str(age))"
   ]
  },
  {
   "cell_type": "code",
   "execution_count": null,
   "id": "56e4d8d3",
   "metadata": {},
   "outputs": [],
   "source": []
  }
 ],
 "metadata": {
  "kernelspec": {
   "display_name": "Python 3 (ipykernel)",
   "language": "python",
   "name": "python3"
  },
  "language_info": {
   "codemirror_mode": {
    "name": "ipython",
    "version": 3
   },
   "file_extension": ".py",
   "mimetype": "text/x-python",
   "name": "python",
   "nbconvert_exporter": "python",
   "pygments_lexer": "ipython3",
   "version": "3.9.13"
  }
 },
 "nbformat": 4,
 "nbformat_minor": 5
}
