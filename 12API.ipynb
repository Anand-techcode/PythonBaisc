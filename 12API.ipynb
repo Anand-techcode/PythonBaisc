{
 "cells": [
  {
   "cell_type": "markdown",
   "id": "53ed2702",
   "metadata": {},
   "source": [
    "# Pulling data from public APIs - GET Request"
   ]
  },
  {
   "cell_type": "code",
   "execution_count": 48,
   "id": "9eb5ede0",
   "metadata": {},
   "outputs": [],
   "source": [
    "base_url = \"https://api.exchangeratesapi.io/latest? access_key = API_KEY\""
   ]
  },
  {
   "cell_type": "markdown",
   "id": "09c27537",
   "metadata": {},
   "source": [
    "# Extracting data on currency exchange rates"
   ]
  },
  {
   "cell_type": "markdown",
   "id": "42fb1eab",
   "metadata": {},
   "source": [
    "SENDING a GET request"
   ]
  },
  {
   "cell_type": "code",
   "execution_count": 49,
   "id": "fddb3ea0",
   "metadata": {},
   "outputs": [],
   "source": [
    "import requests # by import request we can acess GET"
   ]
  },
  {
   "cell_type": "code",
   "execution_count": 50,
   "id": "f6690870",
   "metadata": {},
   "outputs": [],
   "source": [
    "response = requests.get(base_url)"
   ]
  },
  {
   "cell_type": "code",
   "execution_count": 51,
   "id": "8a909ea9",
   "metadata": {},
   "outputs": [
    {
     "data": {
      "text/plain": [
       "<Response [200]>"
      ]
     },
     "execution_count": 51,
     "metadata": {},
     "output_type": "execute_result"
    }
   ],
   "source": [
    "response"
   ]
  },
  {
   "cell_type": "code",
   "execution_count": 52,
   "id": "c71d1449",
   "metadata": {},
   "outputs": [
    {
     "data": {
      "text/plain": [
       "True"
      ]
     },
     "execution_count": 52,
     "metadata": {},
     "output_type": "execute_result"
    }
   ],
   "source": [
    "response.ok"
   ]
  },
  {
   "cell_type": "code",
   "execution_count": 53,
   "id": "d6ecbf6e",
   "metadata": {},
   "outputs": [
    {
     "data": {
      "text/plain": [
       "200"
      ]
     },
     "execution_count": 53,
     "metadata": {},
     "output_type": "execute_result"
    }
   ],
   "source": [
    "response.status_code"
   ]
  },
  {
   "cell_type": "code",
   "execution_count": 54,
   "id": "9b1cd729",
   "metadata": {},
   "outputs": [
    {
     "data": {
      "text/plain": [
       "'{\\n  \"success\": false,\\n  \"error\": {\\n    \"code\": 101,\\n    \"type\": \"missing_access_key\",\\n    \"info\": \"You have not supplied an API Access Key. [Required format: access_key=YOUR_ACCESS_KEY]\"\\n  }\\n}\\n'"
      ]
     },
     "execution_count": 54,
     "metadata": {},
     "output_type": "execute_result"
    }
   ],
   "source": [
    "response.text"
   ]
  },
  {
   "cell_type": "code",
   "execution_count": null,
   "id": "ed23f85c",
   "metadata": {},
   "outputs": [],
   "source": []
  }
 ],
 "metadata": {
  "kernelspec": {
   "display_name": "Python 3 (ipykernel)",
   "language": "python",
   "name": "python3"
  },
  "language_info": {
   "codemirror_mode": {
    "name": "ipython",
    "version": 3
   },
   "file_extension": ".py",
   "mimetype": "text/x-python",
   "name": "python",
   "nbconvert_exporter": "python",
   "pygments_lexer": "ipython3",
   "version": "3.9.13"
  }
 },
 "nbformat": 4,
 "nbformat_minor": 5
}
