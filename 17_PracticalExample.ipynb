{
 "cells": [
  {
   "cell_type": "code",
   "execution_count": 1,
   "id": "01152263",
   "metadata": {},
   "outputs": [],
   "source": [
    "import numpy as np"
   ]
  },
  {
   "cell_type": "code",
   "execution_count": 2,
   "id": "a4990e61",
   "metadata": {},
   "outputs": [],
   "source": [
    "data = np.genfromtxt(\"C:/Users/hp/Desktop/Data Analyst/S28 - A Loan Data Example with NumPy/loan-data.csv\", delimiter = ';')"
   ]
  },
  {
   "cell_type": "code",
   "execution_count": 3,
   "id": "1a0d7307",
   "metadata": {},
   "outputs": [
    {
     "data": {
      "text/plain": [
       "array([[          nan,           nan,           nan, ...,           nan,\n",
       "                  nan,           nan],\n",
       "       [4.8010226e+07,           nan, 3.5000000e+04, ...,           nan,\n",
       "                  nan, 9.4529600e+03],\n",
       "       [5.7693261e+07,           nan, 3.0000000e+04, ...,           nan,\n",
       "                  nan, 4.6797000e+03],\n",
       "       ...,\n",
       "       [5.0415990e+07,           nan, 1.0000000e+04, ...,           nan,\n",
       "                  nan, 2.1856400e+03],\n",
       "       [4.6154151e+07,           nan,           nan, ...,           nan,\n",
       "                  nan, 3.1994000e+03],\n",
       "       [6.6055249e+07,           nan, 1.0000000e+04, ...,           nan,\n",
       "                  nan, 3.0190000e+02]])"
      ]
     },
     "execution_count": 3,
     "metadata": {},
     "output_type": "execute_result"
    }
   ],
   "source": [
    "data"
   ]
  },
  {
   "cell_type": "markdown",
   "id": "6e95843a",
   "metadata": {},
   "source": [
    "now as we can see that entire first row has nan values so "
   ]
  },
  {
   "cell_type": "code",
   "execution_count": 4,
   "id": "d4f55ce3",
   "metadata": {},
   "outputs": [
    {
     "data": {
      "text/plain": [
       "array([[4.8010226e+07,           nan, 3.5000000e+04, ...,           nan,\n",
       "                  nan, 9.4529600e+03],\n",
       "       [5.7693261e+07,           nan, 3.0000000e+04, ...,           nan,\n",
       "                  nan, 4.6797000e+03],\n",
       "       [5.9432726e+07,           nan, 1.5000000e+04, ...,           nan,\n",
       "                  nan, 1.9698300e+03],\n",
       "       ...,\n",
       "       [5.0415990e+07,           nan, 1.0000000e+04, ...,           nan,\n",
       "                  nan, 2.1856400e+03],\n",
       "       [4.6154151e+07,           nan,           nan, ...,           nan,\n",
       "                  nan, 3.1994000e+03],\n",
       "       [6.6055249e+07,           nan, 1.0000000e+04, ...,           nan,\n",
       "                  nan, 3.0190000e+02]])"
      ]
     },
     "execution_count": 4,
     "metadata": {},
     "output_type": "execute_result"
    }
   ],
   "source": [
    "data = np.genfromtxt(\"C:/Users/hp/Desktop/Data Analyst/S28 - A Loan Data Example with NumPy/loan-data.csv\", delimiter = ';', skip_header = 1)\n",
    "data"
   ]
  },
  {
   "cell_type": "markdown",
   "id": "b8ad754e",
   "metadata": {},
   "source": [
    "now removing the white spaces any"
   ]
  },
  {
   "cell_type": "code",
   "execution_count": 5,
   "id": "57a20ebd",
   "metadata": {},
   "outputs": [
    {
     "data": {
      "text/plain": [
       "array([[4.8010226e+07,           nan, 3.5000000e+04, ...,           nan,\n",
       "                  nan, 9.4529600e+03],\n",
       "       [5.7693261e+07,           nan, 3.0000000e+04, ...,           nan,\n",
       "                  nan, 4.6797000e+03],\n",
       "       [5.9432726e+07,           nan, 1.5000000e+04, ...,           nan,\n",
       "                  nan, 1.9698300e+03],\n",
       "       ...,\n",
       "       [5.0415990e+07,           nan, 1.0000000e+04, ...,           nan,\n",
       "                  nan, 2.1856400e+03],\n",
       "       [4.6154151e+07,           nan,           nan, ...,           nan,\n",
       "                  nan, 3.1994000e+03],\n",
       "       [6.6055249e+07,           nan, 1.0000000e+04, ...,           nan,\n",
       "                  nan, 3.0190000e+02]])"
      ]
     },
     "execution_count": 5,
     "metadata": {},
     "output_type": "execute_result"
    }
   ],
   "source": [
    "data = np.genfromtxt(\"C:/Users/hp/Desktop/Data Analyst/S28 - A Loan Data Example with NumPy/loan-data.csv\", delimiter = ';', skip_header = 1, autostrip = True)\n",
    "data"
   ]
  },
  {
   "cell_type": "markdown",
   "id": "13b3cf4d",
   "metadata": {},
   "source": [
    "checking the missing values"
   ]
  },
  {
   "cell_type": "code",
   "execution_count": 6,
   "id": "19d04a55",
   "metadata": {},
   "outputs": [
    {
     "data": {
      "text/plain": [
       "array([[False,  True, False, ...,  True,  True, False],\n",
       "       [False,  True, False, ...,  True,  True, False],\n",
       "       [False,  True, False, ...,  True,  True, False],\n",
       "       ...,\n",
       "       [False,  True, False, ...,  True,  True, False],\n",
       "       [False,  True,  True, ...,  True,  True, False],\n",
       "       [False,  True, False, ...,  True,  True, False]])"
      ]
     },
     "execution_count": 6,
     "metadata": {},
     "output_type": "execute_result"
    }
   ],
   "source": [
    "np.isnan(data)"
   ]
  },
  {
   "cell_type": "code",
   "execution_count": 7,
   "id": "2dcf3717",
   "metadata": {},
   "outputs": [
    {
     "data": {
      "text/plain": [
       "88005"
      ]
     },
     "execution_count": 7,
     "metadata": {},
     "output_type": "execute_result"
    }
   ],
   "source": [
    "np.isnan(data).sum()"
   ]
  },
  {
   "cell_type": "code",
   "execution_count": 8,
   "id": "f1d81a92",
   "metadata": {},
   "outputs": [],
   "source": [
    "temp_fill = np.nanmax(data) + 1   #a filler for all the  missing entries of the dataset"
   ]
  },
  {
   "cell_type": "code",
   "execution_count": 9,
   "id": "615dfb00",
   "metadata": {},
   "outputs": [
    {
     "name": "stderr",
     "output_type": "stream",
     "text": [
      "C:\\Users\\hp\\AppData\\Local\\Temp\\ipykernel_10256\\3200530536.py:1: RuntimeWarning: Mean of empty slice\n",
      "  temp_mean = np.nanmean(data, axis = 0)  #hold the mean of every column\n"
     ]
    }
   ],
   "source": [
    "temp_mean = np.nanmean(data, axis = 0)  #hold the mean of every column"
   ]
  },
  {
   "cell_type": "code",
   "execution_count": 10,
   "id": "df95e6dd",
   "metadata": {},
   "outputs": [
    {
     "data": {
      "text/plain": [
       "array([5.40158092e+07,            nan, 1.52734632e+04,            nan,\n",
       "       1.53110421e+04,            nan, 1.66172948e+01, 4.40922179e+02,\n",
       "                  nan,            nan,            nan,            nan,\n",
       "                  nan, 3.14385094e+03])"
      ]
     },
     "execution_count": 10,
     "metadata": {},
     "output_type": "execute_result"
    }
   ],
   "source": [
    "temp_mean  #represent mean values of each column"
   ]
  },
  {
   "cell_type": "markdown",
   "id": "756ce54c",
   "metadata": {},
   "source": [
    "now filling the missing values"
   ]
  },
  {
   "cell_type": "code",
   "execution_count": 11,
   "id": "db54690f",
   "metadata": {},
   "outputs": [
    {
     "name": "stderr",
     "output_type": "stream",
     "text": [
      "C:\\Users\\hp\\AppData\\Local\\Temp\\ipykernel_10256\\2631524911.py:1: RuntimeWarning: All-NaN slice encountered\n",
      "  temp_stats = np.array([np.nanmin(data, axis = 0), temp_mean , np.nanmax(data , axis = 0)])\n"
     ]
    },
    {
     "data": {
      "text/plain": [
       "array([[3.73332000e+05,            nan, 1.00000000e+03,            nan,\n",
       "        1.00000000e+03,            nan, 6.00000000e+00, 3.14200000e+01,\n",
       "                   nan,            nan,            nan,            nan,\n",
       "                   nan, 0.00000000e+00],\n",
       "       [5.40158092e+07,            nan, 1.52734632e+04,            nan,\n",
       "        1.53110421e+04,            nan, 1.66172948e+01, 4.40922179e+02,\n",
       "                   nan,            nan,            nan,            nan,\n",
       "                   nan, 3.14385094e+03],\n",
       "       [6.86165190e+07,            nan, 3.50000000e+04,            nan,\n",
       "        3.50000000e+04,            nan, 2.89900000e+01, 1.37297000e+03,\n",
       "                   nan,            nan,            nan,            nan,\n",
       "                   nan, 4.19136200e+04]])"
      ]
     },
     "execution_count": 11,
     "metadata": {},
     "output_type": "execute_result"
    }
   ],
   "source": [
    "temp_stats = np.array([np.nanmin(data, axis = 0), temp_mean , np.nanmax(data , axis = 0)])\n",
    "temp_stats  #The temp_stats array contains the minimum, mean and maximum values of each column."
   ]
  },
  {
   "cell_type": "markdown",
   "id": "2be5f150",
   "metadata": {},
   "source": [
    "# splitting the dataset"
   ]
  },
  {
   "cell_type": "markdown",
   "id": "b9f10cfe",
   "metadata": {},
   "source": [
    "splitting into string and numeric"
   ]
  },
  {
   "cell_type": "code",
   "execution_count": 12,
   "id": "5abe9d7a",
   "metadata": {},
   "outputs": [
    {
     "data": {
      "text/plain": [
       "array([[ 1],\n",
       "       [ 3],\n",
       "       [ 5],\n",
       "       [ 8],\n",
       "       [ 9],\n",
       "       [10],\n",
       "       [11],\n",
       "       [12]], dtype=int64)"
      ]
     },
     "execution_count": 12,
     "metadata": {},
     "output_type": "execute_result"
    }
   ],
   "source": [
    "col_string = np.argwhere(np.isnan(temp_mean))\n",
    "col_string"
   ]
  },
  {
   "cell_type": "code",
   "execution_count": 13,
   "id": "2763f924",
   "metadata": {},
   "outputs": [
    {
     "data": {
      "text/plain": [
       "array([ 1,  3,  5,  8,  9, 10, 11, 12], dtype=int64)"
      ]
     },
     "execution_count": 13,
     "metadata": {},
     "output_type": "execute_result"
    }
   ],
   "source": [
    "col_string = np.argwhere(np.isnan(temp_mean)).squeeze()\n",
    "col_string"
   ]
  },
  {
   "cell_type": "code",
   "execution_count": 14,
   "id": "ec673ca6",
   "metadata": {},
   "outputs": [
    {
     "data": {
      "text/plain": [
       "array([ 0,  2,  4,  6,  7, 13], dtype=int64)"
      ]
     },
     "execution_count": 14,
     "metadata": {},
     "output_type": "execute_result"
    }
   ],
   "source": [
    "col_numeric = np.argwhere(np.isnan(temp_mean)== False).squeeze()   #Compute the mean along the columns and Find the column indices where the mean is NaN\n",
    "col_numeric"
   ]
  },
  {
   "cell_type": "markdown",
   "id": "16810463",
   "metadata": {},
   "source": [
    "# Reimporting the dataset"
   ]
  },
  {
   "cell_type": "code",
   "execution_count": 15,
   "id": "ed5fbabd",
   "metadata": {},
   "outputs": [
    {
     "data": {
      "text/plain": [
       "array([['May-15', 'Current', '36 months', ..., 'Verified',\n",
       "        'https://www.lendingclub.com/browse/loanDetail.action?loan_id=48010226',\n",
       "        'CA'],\n",
       "       ['', 'Current', '36 months', ..., 'Source Verified',\n",
       "        'https://www.lendingclub.com/browse/loanDetail.action?loan_id=57693261',\n",
       "        'NY'],\n",
       "       ['Sep-15', 'Current', '36 months', ..., 'Verified',\n",
       "        'https://www.lendingclub.com/browse/loanDetail.action?loan_id=59432726',\n",
       "        'PA'],\n",
       "       ...,\n",
       "       ['Jun-15', 'Current', '36 months', ..., 'Source Verified',\n",
       "        'https://www.lendingclub.com/browse/loanDetail.action?loan_id=50415990',\n",
       "        'CA'],\n",
       "       ['Apr-15', 'Current', '36 months', ..., 'Source Verified',\n",
       "        'https://www.lendingclub.com/browse/loanDetail.action?loan_id=46154151',\n",
       "        'OH'],\n",
       "       ['Dec-15', 'Current', '36 months', ..., '',\n",
       "        'https://www.lendingclub.com/browse/loanDetail.action?loan_id=66055249',\n",
       "        'IL']], dtype='<U69')"
      ]
     },
     "execution_count": 15,
     "metadata": {},
     "output_type": "execute_result"
    }
   ],
   "source": [
    "string_data = np.genfromtxt(\"C:/Users/hp/Desktop/Data Analyst/S28 - A Loan Data Example with NumPy/loan-data.csv\", delimiter = ';', \n",
    "                            skip_header = 1,\n",
    "                           autostrip = True,\n",
    "                           usecols = col_string,\n",
    "                           dtype = str)\n",
    "string_data"
   ]
  },
  {
   "cell_type": "code",
   "execution_count": 16,
   "id": "1afa068e",
   "metadata": {},
   "outputs": [
    {
     "data": {
      "text/plain": [
       "array([[4.8010226e+07, 3.5000000e+04, 3.5000000e+04, 1.3330000e+01,\n",
       "        1.1848600e+03, 9.4529600e+03],\n",
       "       [5.7693261e+07, 3.0000000e+04, 3.0000000e+04, 6.8616520e+07,\n",
       "        9.3857000e+02, 4.6797000e+03],\n",
       "       [5.9432726e+07, 1.5000000e+04, 1.5000000e+04, 6.8616520e+07,\n",
       "        4.9486000e+02, 1.9698300e+03],\n",
       "       ...,\n",
       "       [5.0415990e+07, 1.0000000e+04, 1.0000000e+04, 6.8616520e+07,\n",
       "        6.8616520e+07, 2.1856400e+03],\n",
       "       [4.6154151e+07, 6.8616520e+07, 1.0000000e+04, 1.6550000e+01,\n",
       "        3.5430000e+02, 3.1994000e+03],\n",
       "       [6.6055249e+07, 1.0000000e+04, 1.0000000e+04, 6.8616520e+07,\n",
       "        3.0997000e+02, 3.0190000e+02]])"
      ]
     },
     "execution_count": 16,
     "metadata": {},
     "output_type": "execute_result"
    }
   ],
   "source": [
    "numeric_data = np.genfromtxt(\"C:/Users/hp/Desktop/Data Analyst/S28 - A Loan Data Example with NumPy/loan-data.csv\", delimiter = ';', \n",
    "                           autostrip = True,\n",
    "                           skip_header = 1,\n",
    "                           usecols = col_numeric,\n",
    "                           filling_values = temp_fill)\n",
    "numeric_data"
   ]
  },
  {
   "cell_type": "code",
   "execution_count": 17,
   "id": "99215c2c",
   "metadata": {},
   "outputs": [
    {
     "data": {
      "text/plain": [
       "array(['id', 'loan_amnt', 'funded_amnt', 'int_rate', 'installment',\n",
       "       'total_pymnt'], dtype='<U11')"
      ]
     },
     "execution_count": 17,
     "metadata": {},
     "output_type": "execute_result"
    }
   ],
   "source": [
    "header_full = np.genfromtxt(\"C:/Users/hp/Desktop/Data Analyst/S28 - A Loan Data Example with NumPy/loan-data.csv\", delimiter = ';', \n",
    "                           autostrip = True,\n",
    "                           skip_footer = data.shape[0],\n",
    "                           usecols = col_numeric,\n",
    "                           dtype = str)\n",
    "header_full"
   ]
  },
  {
   "cell_type": "code",
   "execution_count": 18,
   "id": "2ed0fddc",
   "metadata": {},
   "outputs": [
    {
     "ename": "IndexError",
     "evalue": "index 8 is out of bounds for axis 0 with size 6",
     "output_type": "error",
     "traceback": [
      "\u001b[1;31m---------------------------------------------------------------------------\u001b[0m",
      "\u001b[1;31mIndexError\u001b[0m                                Traceback (most recent call last)",
      "\u001b[1;32m~\\AppData\\Local\\Temp\\ipykernel_10256\\3616169238.py\u001b[0m in \u001b[0;36m<module>\u001b[1;34m\u001b[0m\n\u001b[1;32m----> 1\u001b[1;33m \u001b[0mheader_string\u001b[0m \u001b[1;33m,\u001b[0m \u001b[0mheader_numeric\u001b[0m \u001b[1;33m=\u001b[0m \u001b[0mheader_full\u001b[0m\u001b[1;33m[\u001b[0m\u001b[0mcol_string\u001b[0m\u001b[1;33m]\u001b[0m\u001b[1;33m,\u001b[0m \u001b[0mheader_full\u001b[0m\u001b[1;33m[\u001b[0m\u001b[0mcol_numeric\u001b[0m\u001b[1;33m]\u001b[0m\u001b[1;33m\u001b[0m\u001b[1;33m\u001b[0m\u001b[0m\n\u001b[0m",
      "\u001b[1;31mIndexError\u001b[0m: index 8 is out of bounds for axis 0 with size 6"
     ]
    }
   ],
   "source": [
    "header_string , header_numeric = header_full[col_string], header_full[col_numeric]"
   ]
  },
  {
   "cell_type": "code",
   "execution_count": null,
   "id": "a6b7c60a",
   "metadata": {},
   "outputs": [],
   "source": []
  },
  {
   "cell_type": "code",
   "execution_count": null,
   "id": "f39ee1f5",
   "metadata": {},
   "outputs": [],
   "source": []
  }
 ],
 "metadata": {
  "kernelspec": {
   "display_name": "Python 3 (ipykernel)",
   "language": "python",
   "name": "python3"
  },
  "language_info": {
   "codemirror_mode": {
    "name": "ipython",
    "version": 3
   },
   "file_extension": ".py",
   "mimetype": "text/x-python",
   "name": "python",
   "nbconvert_exporter": "python",
   "pygments_lexer": "ipython3",
   "version": "3.9.13"
  }
 },
 "nbformat": 4,
 "nbformat_minor": 5
}
