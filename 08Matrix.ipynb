{
 "cells": [
  {
   "cell_type": "markdown",
   "id": "a1d46cbd",
   "metadata": {},
   "source": [
    "# Array"
   ]
  },
  {
   "cell_type": "code",
   "execution_count": 1,
   "id": "707863f8",
   "metadata": {},
   "outputs": [],
   "source": [
    "import numpy as np"
   ]
  },
  {
   "cell_type": "markdown",
   "id": "fb96c537",
   "metadata": {},
   "source": [
    "Vector --> 1-D array"
   ]
  },
  {
   "cell_type": "code",
   "execution_count": 14,
   "id": "aaf9c812",
   "metadata": {},
   "outputs": [],
   "source": [
    "arr1 = np.array([1,2,3]) # round brackets for np and square brackets for array"
   ]
  },
  {
   "cell_type": "code",
   "execution_count": 15,
   "id": "83d40b55",
   "metadata": {},
   "outputs": [
    {
     "data": {
      "text/plain": [
       "array([1, 2, 3])"
      ]
     },
     "execution_count": 15,
     "metadata": {},
     "output_type": "execute_result"
    }
   ],
   "source": [
    "arr1"
   ]
  },
  {
   "cell_type": "code",
   "execution_count": 16,
   "id": "5988f7e8",
   "metadata": {},
   "outputs": [
    {
     "name": "stdout",
     "output_type": "stream",
     "text": [
      "[1 2 3]\n"
     ]
    }
   ],
   "source": [
    "print(arr1)"
   ]
  },
  {
   "cell_type": "markdown",
   "id": "2afdc722",
   "metadata": {},
   "source": [
    "Matrix --> 2-D array"
   ]
  },
  {
   "cell_type": "code",
   "execution_count": 17,
   "id": "91b0d3fa",
   "metadata": {},
   "outputs": [],
   "source": [
    "arr2 = np.array([[1,2,5],[6,7,5,]])"
   ]
  },
  {
   "cell_type": "code",
   "execution_count": 18,
   "id": "27ecf437",
   "metadata": {},
   "outputs": [
    {
     "data": {
      "text/plain": [
       "array([[1, 2, 5],\n",
       "       [6, 7, 5]])"
      ]
     },
     "execution_count": 18,
     "metadata": {},
     "output_type": "execute_result"
    }
   ],
   "source": [
    "arr2"
   ]
  },
  {
   "cell_type": "code",
   "execution_count": 19,
   "id": "d5b1cf51",
   "metadata": {},
   "outputs": [
    {
     "name": "stdout",
     "output_type": "stream",
     "text": [
      "[[1 2 5]\n",
      " [6 7 5]]\n"
     ]
    }
   ],
   "source": [
    "print(arr2)"
   ]
  },
  {
   "cell_type": "markdown",
   "id": "91159dd5",
   "metadata": {},
   "source": [
    "Data shapes --> to check the dimensionality of the object"
   ]
  },
  {
   "cell_type": "code",
   "execution_count": 22,
   "id": "a0ea20e7",
   "metadata": {},
   "outputs": [
    {
     "data": {
      "text/plain": [
       "(3,)"
      ]
     },
     "execution_count": 22,
     "metadata": {},
     "output_type": "execute_result"
    }
   ],
   "source": [
    "arr1.shape"
   ]
  },
  {
   "cell_type": "code",
   "execution_count": 23,
   "id": "c2b4832f",
   "metadata": {},
   "outputs": [
    {
     "data": {
      "text/plain": [
       "(2, 3)"
      ]
     },
     "execution_count": 23,
     "metadata": {},
     "output_type": "execute_result"
    }
   ],
   "source": [
    "arr2.shape"
   ]
  },
  {
   "cell_type": "markdown",
   "id": "e30b7116",
   "metadata": {},
   "source": [
    "reshape given an array a new shape, without changing its data"
   ]
  },
  {
   "cell_type": "code",
   "execution_count": 24,
   "id": "c111c45b",
   "metadata": {},
   "outputs": [
    {
     "data": {
      "text/plain": [
       "array([[1, 2, 3]])"
      ]
     },
     "execution_count": 24,
     "metadata": {},
     "output_type": "execute_result"
    }
   ],
   "source": [
    "arr1.reshape(1,3)"
   ]
  },
  {
   "cell_type": "code",
   "execution_count": 25,
   "id": "1561713c",
   "metadata": {},
   "outputs": [
    {
     "data": {
      "text/plain": [
       "array([[1],\n",
       "       [2],\n",
       "       [3]])"
      ]
     },
     "execution_count": 25,
     "metadata": {},
     "output_type": "execute_result"
    }
   ],
   "source": [
    "arr1.reshape(3,1)"
   ]
  },
  {
   "cell_type": "markdown",
   "id": "2e1a969b",
   "metadata": {},
   "source": [
    "# Tensor can be defined as a data container. It can be thought of as a multi-dimensional array. Numpy np. array can be used to create tensor of different dimensions such as 1D, 2D, 3D etc. A vector is a 1D tensor, a matrix is a 2D tensor"
   ]
  },
  {
   "cell_type": "code",
   "execution_count": 26,
   "id": "ef483913",
   "metadata": {},
   "outputs": [],
   "source": [
    "t1 = np.array([[1,2,3],[4,5,6]])"
   ]
  },
  {
   "cell_type": "code",
   "execution_count": 28,
   "id": "c5755af9",
   "metadata": {},
   "outputs": [],
   "source": [
    "t2 = np.array([[-2,5,8],[5,6,-9]])"
   ]
  },
  {
   "cell_type": "code",
   "execution_count": 30,
   "id": "adc06329",
   "metadata": {},
   "outputs": [
    {
     "name": "stdout",
     "output_type": "stream",
     "text": [
      "[[[ 1  2  3]\n",
      "  [ 4  5  6]]\n",
      "\n",
      " [[-2  5  8]\n",
      "  [ 5  6 -9]]]\n"
     ]
    }
   ],
   "source": [
    "t3 = np.array([t1,t2])\n",
    "print(t3)"
   ]
  },
  {
   "cell_type": "code",
   "execution_count": 31,
   "id": "740ba05a",
   "metadata": {},
   "outputs": [
    {
     "data": {
      "text/plain": [
       "(2, 2, 3)"
      ]
     },
     "execution_count": 31,
     "metadata": {},
     "output_type": "execute_result"
    }
   ],
   "source": [
    "t3.shape"
   ]
  },
  {
   "cell_type": "markdown",
   "id": "48ae4cfc",
   "metadata": {},
   "source": [
    "# Addition"
   ]
  },
  {
   "cell_type": "markdown",
   "id": "70a7678f",
   "metadata": {},
   "source": [
    "matrix should be of the same matrix"
   ]
  },
  {
   "cell_type": "code",
   "execution_count": 32,
   "id": "55780778",
   "metadata": {},
   "outputs": [
    {
     "data": {
      "text/plain": [
       "array([[-1,  7, 11],\n",
       "       [ 9, 11, -3]])"
      ]
     },
     "execution_count": 32,
     "metadata": {},
     "output_type": "execute_result"
    }
   ],
   "source": [
    "t1 + t2"
   ]
  },
  {
   "cell_type": "markdown",
   "id": "3b259dbb",
   "metadata": {},
   "source": [
    "# Subbtraction --> same rule as addition"
   ]
  },
  {
   "cell_type": "code",
   "execution_count": 33,
   "id": "ea846ba6",
   "metadata": {},
   "outputs": [
    {
     "data": {
      "text/plain": [
       "array([[ 3, -3, -5],\n",
       "       [-1, -1, 15]])"
      ]
     },
     "execution_count": 33,
     "metadata": {},
     "output_type": "execute_result"
    }
   ],
   "source": [
    "t1 - t2"
   ]
  },
  {
   "cell_type": "markdown",
   "id": "88f5c41a",
   "metadata": {},
   "source": [
    "# Transpose"
   ]
  },
  {
   "cell_type": "markdown",
   "id": "bd2c465d",
   "metadata": {},
   "source": [
    "row tarnspose to column or viceversa"
   ]
  },
  {
   "cell_type": "code",
   "execution_count": 34,
   "id": "27bcc60f",
   "metadata": {},
   "outputs": [
    {
     "data": {
      "text/plain": [
       "array([[1, 4],\n",
       "       [2, 5],\n",
       "       [3, 6]])"
      ]
     },
     "execution_count": 34,
     "metadata": {},
     "output_type": "execute_result"
    }
   ],
   "source": [
    "t1.T"
   ]
  },
  {
   "cell_type": "code",
   "execution_count": 35,
   "id": "9d76c08f",
   "metadata": {},
   "outputs": [
    {
     "data": {
      "text/plain": [
       "array([[1, 2, 3],\n",
       "       [4, 5, 6]])"
      ]
     },
     "execution_count": 35,
     "metadata": {},
     "output_type": "execute_result"
    }
   ],
   "source": [
    "t1"
   ]
  },
  {
   "cell_type": "markdown",
   "id": "5ea385ad",
   "metadata": {},
   "source": [
    "# Dot product of vector"
   ]
  },
  {
   "cell_type": "code",
   "execution_count": 38,
   "id": "27856a27",
   "metadata": {},
   "outputs": [],
   "source": [
    "x = np.array([1,2,4])"
   ]
  },
  {
   "cell_type": "code",
   "execution_count": 39,
   "id": "10fdd5d1",
   "metadata": {},
   "outputs": [],
   "source": [
    "y = np.array([4,6,7])"
   ]
  },
  {
   "cell_type": "code",
   "execution_count": 40,
   "id": "602aa94e",
   "metadata": {},
   "outputs": [
    {
     "data": {
      "text/plain": [
       "44"
      ]
     },
     "execution_count": 40,
     "metadata": {},
     "output_type": "execute_result"
    }
   ],
   "source": [
    "np.dot(x,y)"
   ]
  },
  {
   "cell_type": "code",
   "execution_count": 41,
   "id": "21f3a36d",
   "metadata": {},
   "outputs": [],
   "source": [
    "import pandas as pd"
   ]
  },
  {
   "cell_type": "code",
   "execution_count": 42,
   "id": "87cf2ea5",
   "metadata": {},
   "outputs": [
    {
     "data": {
      "text/plain": [
       "'1.4.4'"
      ]
     },
     "execution_count": 42,
     "metadata": {},
     "output_type": "execute_result"
    }
   ],
   "source": [
    "pd.__version__"
   ]
  },
  {
   "cell_type": "code",
   "execution_count": null,
   "id": "ce9b93a3",
   "metadata": {},
   "outputs": [],
   "source": []
  }
 ],
 "metadata": {
  "kernelspec": {
   "display_name": "Python 3 (ipykernel)",
   "language": "python",
   "name": "python3"
  },
  "language_info": {
   "codemirror_mode": {
    "name": "ipython",
    "version": 3
   },
   "file_extension": ".py",
   "mimetype": "text/x-python",
   "name": "python",
   "nbconvert_exporter": "python",
   "pygments_lexer": "ipython3",
   "version": "3.9.13"
  }
 },
 "nbformat": 4,
 "nbformat_minor": 5
}
